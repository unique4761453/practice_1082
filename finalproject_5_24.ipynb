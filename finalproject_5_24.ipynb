{
 "cells": [
  {
   "cell_type": "markdown",
   "metadata": {},
   "source": [
    "# 主題: 判斷照片中的人是否有正確地配戴口罩\n",
    "### 組員: 統計三 李姿璇 胡馨尹 陳淳蓁 歐陽宇珊\n",
    "### 一、動機: \n",
    "前陣子因處於新冠肺炎疫情高峰期，人心惶惶，因此政府規定民眾出入公共場所、搭乘大眾運輸工具需要配戴口罩，並派遣大量人力於各捷運站出入口人工檢查並提醒乘客入站是否配戴口罩。\n",
    "出門戴口罩現已為必備的防疫措施，然而，正確的配戴口罩才有防護效果。若是露出鼻子、口罩下擺沒有包覆到下巴，都會對防護效果大打折扣。因此，我們想用人工智慧來辨識一張人像照片是否有正確的佩戴口罩。若成功，此項技術可協助政府、學校等各機關，應用在課堂或大眾交通工具上，透過這組程式將監視器錄到的影像或拍攝的相片中沒有正確配戴口罩的人篩出。"
   ]
  },
  {
   "cell_type": "markdown",
   "metadata": {},
   "source": [
    "### 二、資料蒐集\n",
    "* 網路爬蟲\n",
    "* 以Fatkun Batch Download Image 批次下載圖片\n",
    "\n",
    "* 網路爬蟲\n",
    "    1. 瀏覽器：Chrome、Firefox\n",
    "        * 選定想要使用的瀏覽器後，要先安裝驅動程式\n",
    "    2. 搜尋引擎：Bing、Google、百度、搜狗\n",
    "        * 不同的搜尋引擎一次可以存取的圖片量、擋爬蟲的程度皆不同\n",
    "        * 在程式碼當中可以加入time.sleep()以避免瀏覽器認為你在攻擊它\n",
    "        * Google的反爬蟲機制最強\n",
    "    3. 關鍵字：戴口罩、wearing mask、人像...等等"
   ]
  },
  {
   "cell_type": "markdown",
   "metadata": {},
   "source": [
    "#### 程式碼 (以Firefox + 百度搜尋為例)"
   ]
  },
  {
   "cell_type": "code",
   "execution_count": 2,
   "metadata": {},
   "outputs": [],
   "source": [
    "#讀取套件\n",
    "from selenium import webdriver\n",
    "import time\n",
    "import urllib\n",
    "import os"
   ]
  },
  {
   "cell_type": "code",
   "execution_count": 3,
   "metadata": {},
   "outputs": [],
   "source": [
    "#存圖位置(要放圖片的資料夾路徑)\n",
    "local_path = r\"C:\\Users\\ena88\\Desktop\\MASK\""
   ]
  },
  {
   "cell_type": "code",
   "execution_count": 8,
   "metadata": {},
   "outputs": [],
   "source": [
    "#瀏覽器驅動程式的路徑\n",
    "driverPath = r\"C:\\Program Files\\Mozilla Firefox\\geckodriver_win64\"\n",
    "#以該瀏覽器打開一個新的頁面\n",
    "driver = webdriver.Firefox(driverPath)"
   ]
  },
  {
   "cell_type": "code",
   "execution_count": 9,
   "metadata": {},
   "outputs": [],
   "source": [
    "#前往百度圖片搜尋的網址\n",
    "driver.get(\"http://image.baidu.com\")"
   ]
  },
  {
   "cell_type": "code",
   "execution_count": 10,
   "metadata": {},
   "outputs": [],
   "source": [
    "#暫停執行1秒\n",
    "time.sleep(1)"
   ]
  },
  {
   "cell_type": "code",
   "execution_count": 11,
   "metadata": {},
   "outputs": [],
   "source": [
    "#找到搜尋引擎輸入文字的框\n",
    "search_input = driver.find_element_by_name(\"word\")\n",
    "#輸入wearing mask\n",
    "search_input.send_keys('wearing mask')"
   ]
  },
  {
   "cell_type": "code",
   "execution_count": 12,
   "metadata": {},
   "outputs": [],
   "source": [
    "#暫停執行兩秒\n",
    "time.sleep(2)"
   ]
  },
  {
   "cell_type": "code",
   "execution_count": 13,
   "metadata": {},
   "outputs": [],
   "source": [
    "#找到搜尋按鈕\n",
    "start_search_btn = driver.find_element_by_class_name(\"s_search\")\n",
    "#按下搜尋按鈕\n",
    "start_search_btn.click()"
   ]
  },
  {
   "cell_type": "code",
   "execution_count": 14,
   "metadata": {},
   "outputs": [],
   "source": [
    "# 設置一個空的字典\n",
    "img_url_dic = {}"
   ]
  },
  {
   "cell_type": "markdown",
   "metadata": {},
   "source": [
    "設定xpath\n",
    "* 自己先手動以相同關鍵字搜尋，選一張圖片按下右鍵，按下檢查\n",
    "* 接著看其img class為何，可以多看幾張照片看其img class是否相同\n",
    "* 可能會有多種img class，設置xpath時可以都試"
   ]
  },
  {
   "cell_type": "code",
   "execution_count": 15,
   "metadata": {},
   "outputs": [],
   "source": [
    "#設定xpath\n",
    "xpath = '//img[@class=\"main_img img-hover\"]'"
   ]
  },
  {
   "cell_type": "markdown",
   "metadata": {},
   "source": [
    "pos = 0  \n",
    "#### 圖片編號\n",
    "m = 0  \n",
    "for i in range(100):\n",
    "    #每次下滾500\n",
    "    pos += i*500   \n",
    "    js = \"document.documentElement.scrollTop=%d\" % pos  \n",
    "    driver.execute_script(js)  \n",
    "    time.sleep(5)\n",
    "    \n",
    "    for element in driver.find_elements_by_xpath(xpath):\n",
    "        try:\n",
    "            #找圖片的url，每個搜尋引擎放url的代號有些不同\n",
    "            #可以在前面找xpath的時候一起看 在圖片xpath後面會有該圖片的url\n",
    "            #這邊存url的代號是src\n",
    "            img_url = element.get_attribute('src')\n",
    "            \n",
    "            #保存圖片到指定路徑\n",
    "            if img_url != None and not img_url in img_url_dic:\n",
    "                img_url_dic[img_url] = ''  \n",
    "                m += 1\n",
    "                #print(img_url)\n",
    "                ext = img_url.split('/')[-1]\n",
    "                #print(ext)\n",
    "                filename = str(m) + 'B' + '_' + ext +'.jpg'\n",
    "                print(filename)\n",
    "                \n",
    "                #保存圖片\n",
    "                urllib.request.urlretrieve(img_url,os.path.join(local_path ,filename))\n",
    "                \n",
    "        except OSError:\n",
    "            print('發生OSError!')\n",
    "            print(pos)\n",
    "            break;\n",
    "#### 關閉瀏覽器            \n",
    "driver.close()"
   ]
  },
  {
   "cell_type": "markdown",
   "metadata": {},
   "source": [
    "* Fatkun Batch Download Image\n",
    "   1. 在Chrome線上應用程式商店下載 Fatkun Batch Download Image 到瀏覽器\n",
    "   2. 點選此工具後，會出現兩個選項：「下載當前頁面」和「下載所有頁面」。前者只會下載當前分頁的所有圖片；另一個選項則會下載所有開啟分頁的圖片。若網站有下載的限制，勾選「解除當前頁面下載限制」即可順利下載。\n",
    "       - 內部有進階的設定，例如將下載的圖片自動轉擋成.jpg或.png\n",
    "   3. 點擊下載後，就開啟此工具，此時頁面會出現要下載的圖片以及篩選條件。\n",
    "       - 篩選條件包括：圖片尺寸、關鍵字、頁面"
   ]
  },
  {
   "cell_type": "markdown",
   "metadata": {},
   "source": [
    "### 三、資料篩選\n",
    "* 人工篩選：我們將爬蟲取得的圖片以人工的方式篩選，將明顯不是人像的圖片刪除。"
   ]
  },
  {
   "cell_type": "markdown",
   "metadata": {},
   "source": [
    "### 四、資料處理\n",
    "1. 將圖片resize成 256*256\n",
    "    * 以PIL套件處理\n",
    "2. 僅保留(256,256,3)的圖片\n",
    "    * 讀入資料後，篩掉(256,256,1)、(256,256,4)的圖片\n",
    "    * 最後以4539張圖片進行模型的訓練與測試\n",
    "3. 將資料標籤成0,1 \n",
    "    * 0代表沒戴口罩、1代表有戴口罩"
   ]
  },
  {
   "cell_type": "markdown",
   "metadata": {},
   "source": [
    "#### 讀取圖片方法、影像處理套件的差異：\n",
    "* Opencv\n",
    "    - 優點\n",
    "        1. 易於使用：Python 是一門易於學習的語言（尤其是與 C 對比），所以我們理應把其當作為第一門語言來學習程式設計。\n",
    "        2. 視覺化及除錯 ：現在 Python 環境下比 C 更容易去除錯程式碼。\n",
    "    - 缺點\n",
    "        1. 薄弱的文件 ：OpenCV（Python）的文件並不太的完善， 新手使用時往往會陷入如何去使用特定函式的問題當中。\n",
    "        2. 執行時較慢 ：比起 C ，Python中的程式一般會執行地更慢。\n",
    "        3. OpenCV 是使用 C/C 編寫的 ：作為一個開源庫，其好處之一就是能根據你自身需求進行修改。如果你想要修改 OpenCV，你就必須得修改 OpenCV 的 C/C 原始檔。\n",
    "    - 我們實際使用的經驗\n",
    "      * 我們在使用opencv時，運用了其中的靜態人臉辨識功能，但我們發現效果並不如預期，辨識出來的位置往往不是最主要的人臉，有時是背景的某一區塊、有時是旁邊路人甲乙的臉，因此我們不使用opencv來調整、剪裁我們的照片。\n",
    "* Matplotlib.Image\n",
    "    - 優點\n",
    "        1. 相較於其他視覺化套件，matplot算是最歷史悠久，有很多教學文章或範例可參考。 \n",
    "        2. 畫圖功能最齊全\n",
    "        3. Python中常用的讀取圖片套件之一\n",
    "    - 缺點\n",
    "        1. 依賴其他套件，像是Numpy\n",
    "        2. 只能讀取png檔\n",
    "* Python Image Library (PIL)\n",
    "        \n",
    "    * PIL是Python強大的圖像處理庫，功能包含：基本圖像操作、圖像儲存、顯示、格式轉換…等多種功能，目前已經停止開發；pillow開發活躍，且支持Python3.x，所以現在所使用的PIL基本上都是pillow模塊。\n",
    "    * 優點：只適用於Python，較可靠、穩定\n",
    "    * 缺點：其他程式難以使用"
   ]
  },
  {
   "cell_type": "markdown",
   "metadata": {},
   "source": [
    "* 三者比較\n",
    "\n",
    "    * 另外，Pillow可以使用的唯一數據類型是uint8。Matplotlib可以處理float32和uint8，但是除了PNG以外的任何格式的圖像都受限於uint8。大多數顯示器每個channel只能渲染8位色彩等級，因為這就是人眼所能看到的全部。\n",
    "    * 經過測試與比較，此次專案我們選用的是PIL方法來裁剪圖片，將不同大小的圖片都裁成256x256的大小，以利後續模型的資料輸入。\n"
   ]
  },
  {
   "cell_type": "markdown",
   "metadata": {},
   "source": [
    "#### 程式碼---以PIL進行resize"
   ]
  },
  {
   "cell_type": "code",
   "execution_count": 16,
   "metadata": {},
   "outputs": [],
   "source": [
    "%matplotlib inline\n",
    "\n",
    "import os\n",
    "import os.path\n",
    "import glob\n",
    "from PIL import Image\n",
    "import matplotlib.pyplot as plt # plt 用於顯示圖片\n",
    "import matplotlib.image as mpimg # mpimg 用於讀取圖片\n",
    "import numpy as np\n",
    "from sklearn import model_selection"
   ]
  },
  {
   "cell_type": "code",
   "execution_count": 19,
   "metadata": {},
   "outputs": [],
   "source": [
    "# 用雲端資料夾\n",
    "#from google.colab import drive\n",
    "#drive.mount('/content/gdrive')"
   ]
  },
  {
   "cell_type": "code",
   "execution_count": 20,
   "metadata": {},
   "outputs": [],
   "source": [
    "#os.chdir(\"gdrive/My Drive/Colab Notebooks\")"
   ]
  },
  {
   "cell_type": "code",
   "execution_count": 21,
   "metadata": {},
   "outputs": [],
   "source": [
    "# 以PIL進行resize\n",
    "def convertjpg(jpgfile,outdir,width=256,height=256):\n",
    "    img=Image.open(jpgfile)\n",
    "    try:\n",
    "        new_img=img.resize((width,height),Image.BILINEAR)   \n",
    "        new_img.save(os.path.join(outdir,os.path.basename(jpgfile)))\n",
    "    except Exception as e:\n",
    "        print(e)"
   ]
  },
  {
   "cell_type": "markdown",
   "metadata": {},
   "source": [
    "### 五、資料標籤、打亂資料"
   ]
  },
  {
   "cell_type": "markdown",
   "metadata": {},
   "source": [
    "資料整理流程圖\n",
    "(https://github.com/unique4761453/python_1082/blob/master/DataDiagram.jpg)"
   ]
  },
  {
   "cell_type": "code",
   "execution_count": 22,
   "metadata": {},
   "outputs": [],
   "source": [
    "array_of_img = []\n",
    "array_of_img_2=[]\n",
    "array_of_img_3=[]\n",
    "array_of_img_4=[]"
   ]
  },
  {
   "cell_type": "code",
   "execution_count": 23,
   "metadata": {},
   "outputs": [],
   "source": [
    "def read_directory(directory_name):\n",
    "#    global array_of_img\n",
    "    for filename in os.listdir(r\"./\"+directory_name):        #從程式碼所在的路徑尋找要讀入圖片的資料夾\n",
    "        img = mpimg.imread(directory_name + \"/\" + filename)  #讀入資料夾下的圖片\n",
    "        if img.shape==((256,256,3)):      ##如果是RGB三色就留下來，黑白的剔除\n",
    "            #print(len(array_of_img))      \n",
    "            array_of_img.append(img)      ##用list的方式append\n",
    "            #array_of_img_2.append(img)\n",
    "            #array_of_img_3.append(img)\n",
    "            #array_of_img_4.append(img)\n",
    "        else :\n",
    "            print(filename) "
   ]
  },
  {
   "cell_type": "code",
   "execution_count": 24,
   "metadata": {},
   "outputs": [],
   "source": [
    "#讀入資料\n",
    "#read_directory(\"單人_trans\")\n",
    "#read_directory(\"多人_trans\")\n",
    "#read_directory(\"單人_trans(non)\")\n",
    "#read_directory(\"多人_trans(non)\")"
   ]
  },
  {
   "cell_type": "code",
   "execution_count": 25,
   "metadata": {},
   "outputs": [],
   "source": [
    "#統一從list轉成ndarray\n",
    "array_of_img=np.array(array_of_img)     #單人_trans 有戴\n",
    "array_of_img_2=np.array(array_of_img_2) #多人_trans 有戴\n",
    "array_of_img_3=np.array(array_of_img_3) #單人_trans(non) 沒戴\n",
    "array_of_img_4=np.array(array_of_img_4) #多人_trans(non) 沒戴"
   ]
  },
  {
   "cell_type": "code",
   "execution_count": 26,
   "metadata": {},
   "outputs": [],
   "source": [
    "#合併x資料集\n",
    "mask=np.append(array_of_img,array_of_img_2, axis=0)\n",
    "nonmask=np.append(array_of_img_3,array_of_img_4, axis=0)\n",
    "x=np.append(mask,nonmask, axis=0)"
   ]
  },
  {
   "cell_type": "code",
   "execution_count": 27,
   "metadata": {},
   "outputs": [],
   "source": [
    "#合併y資料集\n",
    "y_1 = np.ones(len(mask))\n",
    "y_0 = np.zeros(len(nonmask))\n",
    "y=np.append(y_1,y_0, axis=0)"
   ]
  },
  {
   "cell_type": "code",
   "execution_count": 28,
   "metadata": {},
   "outputs": [],
   "source": [
    "indices =np.random.permutation(x.shape[0])    #隨機排列同樣長度的序號"
   ]
  },
  {
   "cell_type": "code",
   "execution_count": 30,
   "metadata": {},
   "outputs": [],
   "source": [
    "#x = x[indices,:,:,:]        #獲取打亂後的訓練資料\n",
    "#y = y[indices]              #讓y隨著x的順序一起打亂"
   ]
  },
  {
   "cell_type": "code",
   "execution_count": 31,
   "metadata": {},
   "outputs": [],
   "source": [
    "#儲存x,y資料集\n",
    "#np.save(file=\"x.npy\", arr=x)\n",
    "#np.save(file=\"y.npy\", arr=y)"
   ]
  },
  {
   "cell_type": "markdown",
   "metadata": {},
   "source": [
    "### 六、讀入整理過的資料並檢視"
   ]
  },
  {
   "cell_type": "code",
   "execution_count": 32,
   "metadata": {},
   "outputs": [],
   "source": [
    "x= np.load(file=\"x.npy\")"
   ]
  },
  {
   "cell_type": "code",
   "execution_count": 33,
   "metadata": {},
   "outputs": [],
   "source": [
    "y= np.load(file=\"y.npy\")"
   ]
  },
  {
   "cell_type": "code",
   "execution_count": 34,
   "metadata": {},
   "outputs": [],
   "source": [
    "x_train, x_test, y_train, y_test = model_selection.train_test_split(x, y, test_size=0.2, random_state=0)"
   ]
  },
  {
   "cell_type": "code",
   "execution_count": 35,
   "metadata": {},
   "outputs": [
    {
     "data": {
      "text/plain": [
       "(3631, 256, 256, 3)"
      ]
     },
     "execution_count": 35,
     "metadata": {},
     "output_type": "execute_result"
    }
   ],
   "source": [
    "x_train.shape"
   ]
  },
  {
   "cell_type": "code",
   "execution_count": 37,
   "metadata": {
    "scrolled": true
   },
   "outputs": [
    {
     "data": {
      "text/plain": [
       "<matplotlib.image.AxesImage at 0x24e3da78d68>"
      ]
     },
     "execution_count": 37,
     "metadata": {},
     "output_type": "execute_result"
    },
    {
     "data": {
      "image/png": "[encoded data removed]",
      "text/plain": [
       "<Figure size 432x288 with 1 Axes>"
      ]
     },
     "metadata": {
      "needs_background": "light"
     },
     "output_type": "display_data"
    }
   ],
   "source": [
    "plt.imshow(x_train[500])"
   ]
  },
  {
   "cell_type": "code",
   "execution_count": 38,
   "metadata": {},
   "outputs": [
    {
     "data": {
      "text/plain": [
       "1.0"
      ]
     },
     "execution_count": 38,
     "metadata": {},
     "output_type": "execute_result"
    }
   ],
   "source": [
    "y_train[500]"
   ]
  },
  {
   "cell_type": "code",
   "execution_count": 39,
   "metadata": {},
   "outputs": [
    {
     "data": {
      "text/plain": [
       "(908, 256, 256, 3)"
      ]
     },
     "execution_count": 39,
     "metadata": {},
     "output_type": "execute_result"
    }
   ],
   "source": [
    "x_test.shape"
   ]
  },
  {
   "cell_type": "code",
   "execution_count": 8,
   "metadata": {},
   "outputs": [
    {
     "data": {
      "text/plain": [
       "(3631,)"
      ]
     },
     "execution_count": 8,
     "metadata": {},
     "output_type": "execute_result"
    }
   ],
   "source": [
    "y_train.shape"
   ]
  },
  {
   "cell_type": "code",
   "execution_count": 52,
   "metadata": {},
   "outputs": [],
   "source": [
    "# Import some useful packages\n",
    "import matplotlib.pyplot as plt\n",
    "import numpy as np\n",
    "\n",
    "# Layers for FNN\n",
    "from keras.models import Sequential\n",
    "from keras.layers import Dense\n",
    "from keras.layers import Flatten\n",
    "\n",
    "# Layers for CNN\n",
    "from keras.layers import Conv2D,Conv3D,AveragePooling2D, MaxPooling2D, AveragePooling3D,MaxPooling3D\n",
    "\n",
    "from keras.optimizers import SGD, Adam,Adagrad\n",
    "\n",
    "# For data preprocessing\n",
    "from keras import datasets\n",
    "from keras.utils import to_categorical"
   ]
  },
  {
   "cell_type": "code",
   "execution_count": 53,
   "metadata": {},
   "outputs": [],
   "source": [
    "# Normalize the range of featurs\n",
    "x_train = x_train /255\n",
    "x_test = x_test / 255\n",
    "\n",
    "# One-hot encoding\n",
    "y_train = to_categorical(y_train, 2)\n",
    "y_test = to_categorical(y_test, 2)"
   ]
  },
  {
   "cell_type": "markdown",
   "metadata": {},
   "source": [
    "### 七、模型架構"
   ]
  },
  {
   "cell_type": "markdown",
   "metadata": {},
   "source": [
    "模型架構圖(https://github.com/unique4761453/python_1082/blob/master/FunctionalDiagram.jpg)"
   ]
  },
  {
   "cell_type": "code",
   "execution_count": 14,
   "metadata": {},
   "outputs": [],
   "source": [
    "from keras.models import Model\n",
    "from keras.layers import Input\n",
    "from keras.layers import concatenate, add"
   ]
  },
  {
   "cell_type": "markdown",
   "metadata": {},
   "source": [
    "SPP圖解(https://github.com/unique4761453/python_1082)"
   ]
  },
  {
   "cell_type": "code",
   "execution_count": 46,
   "metadata": {},
   "outputs": [],
   "source": [
    "from keras.engine.topology import Layer\n",
    "import keras.backend as K\n",
    "\n",
    "##SPP空間金字塔池化\n",
    "class SpatialPyramidPooling(Layer):\n",
    "    \"\"\"Spatial pyramid pooling layer for 2D inputs.\n",
    "    See Spatial Pyramid Pooling in Deep Convolutional Networks for Visual Recognition,\n",
    "    K. He, X. Zhang, S. Ren, J. Sun\n",
    "    # Arguments\n",
    "        pool_list: list of int\n",
    "            List of pooling regions to use. The length of the list is the number of pooling regions,\n",
    "            each int in the list is the number of regions in that pool. For example [1,2,4] would be 3\n",
    "            regions with 1, 2x2 and 4x4 max pools, so 21 outputs per feature map\n",
    "    # Input shape\n",
    "        4D tensor with shape:\n",
    "        `(samples, channels, rows, cols)` if dim_ordering='th'\n",
    "        or 4D tensor with shape:\n",
    "        `(samples, rows, cols, channels)` if dim_ordering='tf'.\n",
    "    # Output shape\n",
    "        2D tensor with shape:\n",
    "        `(samples, channels * sum([i * i for i in pool_list])`\n",
    "    \"\"\"\n",
    "\n",
    "    def __init__(self, pool_list, **kwargs):\n",
    "\n",
    "        self.dim_ordering = K.image_data_format()\n",
    "        assert self.dim_ordering in {'channels_last', 'channels_first'}, 'dim_ordering must be in {tf, th}'\n",
    "\n",
    "        self.pool_list = pool_list\n",
    "\n",
    "        self.num_outputs_per_channel = sum([i * i for i in pool_list])\n",
    "\n",
    "        super(SpatialPyramidPooling, self).__init__(**kwargs)\n",
    "\n",
    "    def build(self, input_shape):\n",
    "        if self.dim_ordering == 'channels_first':\n",
    "            self.nb_channels = input_shape[1]\n",
    "        elif self.dim_ordering == 'channels_last':\n",
    "            self.nb_channels = input_shape[3]\n",
    "\n",
    "    def compute_output_shape(self, input_shape):\n",
    "        return (input_shape[0], self.nb_channels * self.num_outputs_per_channel)\n",
    "\n",
    "    def get_config(self):\n",
    "        config = {'pool_list': self.pool_list}\n",
    "        base_config = super(SpatialPyramidPooling, self).get_config()\n",
    "        return dict(list(base_config.items()) + list(config.items()))\n",
    "\n",
    "    def call(self, x, mask=None):\n",
    "\n",
    "        input_shape = K.shape(x)\n",
    "\n",
    "        if self.dim_ordering == 'channels_first':\n",
    "            num_rows = input_shape[2]\n",
    "            num_cols = input_shape[3]\n",
    "        elif self.dim_ordering == 'channels_last':\n",
    "            num_rows = input_shape[1]\n",
    "            num_cols = input_shape[2]\n",
    "\n",
    "        row_length = [K.cast(num_rows, 'float32') / i for i in self.pool_list]\n",
    "        col_length = [K.cast(num_cols, 'float32') / i for i in self.pool_list]\n",
    "\n",
    "        outputs = []\n",
    "\n",
    "        if self.dim_ordering == 'channels_first':\n",
    "            for pool_num, num_pool_regions in enumerate(self.pool_list):\n",
    "                for jy in range(num_pool_regions):\n",
    "                    for ix in range(num_pool_regions):\n",
    "                        x1 = ix * col_length[pool_num]\n",
    "                        x2 = ix * col_length[pool_num] + col_length[pool_num]\n",
    "                        y1 = jy * row_length[pool_num]\n",
    "                        y2 = jy * row_length[pool_num] + row_length[pool_num]\n",
    "\n",
    "                        x1 = K.cast(K.round(x1), 'int32')\n",
    "                        x2 = K.cast(K.round(x2), 'int32')\n",
    "                        y1 = K.cast(K.round(y1), 'int32')\n",
    "                        y2 = K.cast(K.round(y2), 'int32')\n",
    "                        new_shape = [input_shape[0], input_shape[1],\n",
    "                                     y2 - y1, x2 - x1]\n",
    "                        x_crop = x[:, :, y1:y2, x1:x2]\n",
    "                        xm = K.reshape(x_crop, new_shape)\n",
    "                        pooled_val = K.max(xm, axis=(2, 3))\n",
    "                        outputs.append(pooled_val)\n",
    "\n",
    "        elif self.dim_ordering == 'channels_last':\n",
    "            for pool_num, num_pool_regions in enumerate(self.pool_list):\n",
    "                for jy in range(num_pool_regions):\n",
    "                    for ix in range(num_pool_regions):\n",
    "                        x1 = ix * col_length[pool_num]\n",
    "                        x2 = ix * col_length[pool_num] + col_length[pool_num]\n",
    "                        y1 = jy * row_length[pool_num]\n",
    "                        y2 = jy * row_length[pool_num] + row_length[pool_num]\n",
    "\n",
    "                        x1 = K.cast(K.round(x1), 'int32')\n",
    "                        x2 = K.cast(K.round(x2), 'int32')\n",
    "                        y1 = K.cast(K.round(y1), 'int32')\n",
    "                        y2 = K.cast(K.round(y2), 'int32')\n",
    "\n",
    "                        new_shape = [input_shape[0], y2 - y1,\n",
    "                                     x2 - x1, input_shape[3]]\n",
    "\n",
    "                        x_crop = x[:, y1:y2, x1:x2, :]\n",
    "                        xm = K.reshape(x_crop, new_shape)\n",
    "                        pooled_val = K.max(xm, axis=(1, 2))\n",
    "                        outputs.append(pooled_val)\n",
    "\n",
    "        if self.dim_ordering == 'channels_first':\n",
    "            outputs = K.concatenate(outputs)\n",
    "        elif self.dim_ordering == 'channels_last':\n",
    "            #outputs = K.concatenate(outputs,axis = 1)\n",
    "            outputs = K.concatenate(outputs)\n",
    "            #outputs = K.reshape(outputs,(len(self.pool_list),self.num_outputs_per_channel,input_shape[0],input_shape[1]))\n",
    "            #outputs = K.permute_dimensions(outputs,(3,1,0,2))\n",
    "            #outputs = K.reshape(outputs,(input_shape[0], self.num_outputs_per_channel * self.nb_channels))\n",
    "\n",
    "        return outputs"
   ]
  },
  {
   "cell_type": "markdown",
   "metadata": {},
   "source": [
    "#### Max-Pooling vs. Average-Pooling\n",
    "池化操作時在卷積神經網路中經常採用過的一個基本操作，一般在卷積層後面都會接一個池化操作。\n",
    "\n",
    "|  Max-Pooling   | Average-Pooling  |\n",
    "|:----|:----|\n",
    "| 對領域內取最大特徵點  | 對領域內特徵點取平均 |\n",
    "| 減小卷積層引數誤差造成估計均值的偏移  | 減小鄰域大小受限造成的估計值方差 |\n",
    "|  保留更多紋理資訊   | 保留更多影象的背景資訊  |\n",
    "|  效果較好，弱化強特徵值，但可能有過度擬合的情形發生。  | 雖然會弱化強特徵值，但在減少引數維度的貢獻上較大，並體現在資訊的完整傳遞。  |\n",
    " \n",
    "兩種方法各有優劣，端看專案的需求。\n"
   ]
  },
  {
   "cell_type": "markdown",
   "metadata": {},
   "source": [
    "Max-Pooling vs. Average-Pooling圖解(https://github.com/unique4761453/python_1082/blob/master/MaxAverage.jpg)"
   ]
  },
  {
   "cell_type": "code",
   "execution_count": 49,
   "metadata": {},
   "outputs": [],
   "source": [
    "f_1 = Conv2D(16,(3,3),padding='same',activation= 'relu')\n",
    "f_2 = MaxPooling2D(pool_size=(2,2),padding='same')\n",
    "f_3 = Conv2D(32,(3,3),padding='same',activation= 'relu')\n",
    "f_4_1 = MaxPooling2D(pool_size=(2, 2),padding='same', data_format=None)\n",
    "\n",
    "\n",
    "\n",
    "\n",
    "f_4_2 = AveragePooling2D(pool_size=(2, 2 ),padding='same', data_format=None)\n",
    "f_5 = Conv2D(128,(3,3),padding='same',activation= 'relu')\n",
    "\n",
    "f_6 = SpatialPyramidPooling([1, 2, 4])\n",
    "#f_7 = Flatten()\n",
    "\n",
    "f_8 = Dense(2, activation='softmax')\n"
   ]
  },
  {
   "cell_type": "code",
   "execution_count": 50,
   "metadata": {},
   "outputs": [],
   "source": [
    "x = Input(shape=(256,256,3))"
   ]
  },
  {
   "cell_type": "code",
   "execution_count": 51,
   "metadata": {},
   "outputs": [
    {
     "name": "stdout",
     "output_type": "stream",
     "text": [
      "Tensor(\"input_8:0\", shape=(None, 256, 256, 3), dtype=float32)\n"
     ]
    }
   ],
   "source": [
    "print(x)"
   ]
  },
  {
   "cell_type": "code",
   "execution_count": 52,
   "metadata": {},
   "outputs": [],
   "source": [
    "h_1 = f_1(x)\n",
    "h_2 = f_2(h_1)\n",
    "h_3 = f_3(h_2)\n",
    "h_4_1 = f_4_1(h_3)\n",
    "h_5_1 = f_5(h_4_1)\n",
    "\n",
    "\n",
    "h_4_2 = f_4_2(h_3)\n",
    "h_5_2 = f_5(h_4_2)\n",
    "\n",
    "\n",
    "h_6 = concatenate([h_5_1, h_5_2])\n",
    "h_7 = f_6(h_6)\n",
    "#h_8 = f_7(h_7)\n",
    "y= f_8(h_7)"
   ]
  },
  {
   "cell_type": "code",
   "execution_count": 53,
   "metadata": {},
   "outputs": [
    {
     "name": "stdout",
     "output_type": "stream",
     "text": [
      "Model: \"model_2\"\n",
      "__________________________________________________________________________________________________\n",
      "Layer (type)                    Output Shape         Param #     Connected to                     \n",
      "==================================================================================================\n",
      "input_8 (InputLayer)            (None, 256, 256, 3)  0                                            \n",
      "__________________________________________________________________________________________________\n",
      "conv2d_29 (Conv2D)              (None, 256, 256, 16) 448         input_8[0][0]                    \n",
      "__________________________________________________________________________________________________\n",
      "max_pooling2d_15 (MaxPooling2D) (None, 128, 128, 16) 0           conv2d_29[0][0]                  \n",
      "__________________________________________________________________________________________________\n",
      "conv2d_30 (Conv2D)              (None, 128, 128, 32) 4640        max_pooling2d_15[0][0]           \n",
      "__________________________________________________________________________________________________\n",
      "max_pooling2d_16 (MaxPooling2D) (None, 64, 64, 32)   0           conv2d_30[0][0]                  \n",
      "__________________________________________________________________________________________________\n",
      "average_pooling2d_10 (AveragePo (None, 64, 64, 32)   0           conv2d_30[0][0]                  \n",
      "__________________________________________________________________________________________________\n",
      "conv2d_31 (Conv2D)              (None, 64, 64, 128)  36992       max_pooling2d_16[0][0]           \n",
      "                                                                 average_pooling2d_10[0][0]       \n",
      "__________________________________________________________________________________________________\n",
      "concatenate_7 (Concatenate)     (None, 64, 64, 256)  0           conv2d_31[0][0]                  \n",
      "                                                                 conv2d_31[1][0]                  \n",
      "__________________________________________________________________________________________________\n",
      "spatial_pyramid_pooling_9 (Spat (None, 5376)         0           concatenate_7[0][0]              \n",
      "__________________________________________________________________________________________________\n",
      "dense_8 (Dense)                 (None, 2)            10754       spatial_pyramid_pooling_9[0][0]  \n",
      "==================================================================================================\n",
      "Total params: 52,834\n",
      "Trainable params: 52,834\n",
      "Non-trainable params: 0\n",
      "__________________________________________________________________________________________________\n"
     ]
    }
   ],
   "source": [
    "model = Model(x, y)\n",
    "model.summary()"
   ]
  },
  {
   "cell_type": "code",
   "execution_count": 54,
   "metadata": {},
   "outputs": [],
   "source": [
    "#model.compile(loss='mse', optimizer=Adam(), metrics=['accuracy'])"
   ]
  },
  {
   "cell_type": "code",
   "execution_count": 55,
   "metadata": {},
   "outputs": [],
   "source": [
    "model.compile(loss= \"binary_crossentropy\",optimizer=\"Adagrad\",metrics=[\"accuracy\"])"
   ]
  },
  {
   "cell_type": "markdown",
   "metadata": {},
   "source": [
    "### 八、開始訓練"
   ]
  },
  {
   "cell_type": "code",
   "execution_count": 56,
   "metadata": {},
   "outputs": [
    {
     "name": "stdout",
     "output_type": "stream",
     "text": [
      "Train on 3631 samples, validate on 908 samples\n",
      "Epoch 1/12\n",
      "3631/3631 [==============================] - 389s 107ms/step - loss: 0.7024 - accuracy: 0.5830 - val_loss: 0.6581 - val_accuracy: 0.5914\n",
      "Epoch 2/12\n",
      "3631/3631 [==============================] - 362s 100ms/step - loss: 0.6484 - accuracy: 0.6155 - val_loss: 0.6837 - val_accuracy: 0.5881\n",
      "Epoch 3/12\n",
      "3631/3631 [==============================] - 362s 100ms/step - loss: 0.6046 - accuracy: 0.6648 - val_loss: 0.6271 - val_accuracy: 0.6267\n",
      "Epoch 4/12\n",
      "3631/3631 [==============================] - 370s 102ms/step - loss: 0.5558 - accuracy: 0.7161 - val_loss: 0.5611 - val_accuracy: 0.6982\n",
      "Epoch 5/12\n",
      "3631/3631 [==============================] - 367s 101ms/step - loss: 0.5091 - accuracy: 0.7571 - val_loss: 0.5485 - val_accuracy: 0.7368\n",
      "Epoch 6/12\n",
      "3631/3631 [==============================] - 377s 104ms/step - loss: 0.4855 - accuracy: 0.7722 - val_loss: 0.5966 - val_accuracy: 0.6817\n",
      "Epoch 7/12\n",
      "3631/3631 [==============================] - 372s 102ms/step - loss: 0.4603 - accuracy: 0.7899 - val_loss: 0.4977 - val_accuracy: 0.7599\n",
      "Epoch 8/12\n",
      "3631/3631 [==============================] - 369s 102ms/step - loss: 0.4423 - accuracy: 0.8017 - val_loss: 0.5426 - val_accuracy: 0.7456\n",
      "Epoch 9/12\n",
      "3631/3631 [==============================] - 372s 103ms/step - loss: 0.4133 - accuracy: 0.8169 - val_loss: 0.4691 - val_accuracy: 0.7863\n",
      "Epoch 10/12\n",
      "3631/3631 [==============================] - 375s 103ms/step - loss: 0.3972 - accuracy: 0.8276 - val_loss: 0.5247 - val_accuracy: 0.7566\n",
      "Epoch 11/12\n",
      "3631/3631 [==============================] - 375s 103ms/step - loss: 0.3695 - accuracy: 0.8400 - val_loss: 0.4899 - val_accuracy: 0.7830\n",
      "Epoch 12/12\n",
      "3631/3631 [==============================] - 382s 105ms/step - loss: 0.3621 - accuracy: 0.8474 - val_loss: 0.4469 - val_accuracy: 0.7985\n"
     ]
    },
    {
     "data": {
      "text/plain": [
       "<keras.callbacks.callbacks.History at 0x1430f747e80>"
      ]
     },
     "execution_count": 56,
     "metadata": {},
     "output_type": "execute_result"
    }
   ],
   "source": [
    "model.fit(x_train,y_train,batch_size=32,epochs=12,validation_data=(x_test,y_test))"
   ]
  },
  {
   "cell_type": "markdown",
   "metadata": {},
   "source": [
    "#### Loss Function 損失函數\n",
    "* MSE (Mean Squared Error)\n",
    "    * 我們之前講的最小平方法(Least Square)的目標函數 – 預測值與實際值的差距之平均值。\n",
    "    * MSE雖然好用，但仍然有缺點，Outlier在MSE會指數性的被放大。\n",
    "* MAE (Mean-Absolute Error)\n",
    "    * MSE對Outlier特別敏感，由於MAE使用的是L1距離，相較於MSE，對Outlier更為強大，然而MAE為人詬病的缺點就是收斂速度慢。\n",
    "* Cross Entropy (Categorical Crossentropy)\n",
    "    * 當預測值與實際值愈相近，損失函數就愈小，反之差距很大，就會更影響損失函數的值。在梯度下時，Cross Entropy 計算速度較快，Binary Crossentropy是其中一種變形。\n"
   ]
  },
  {
   "cell_type": "code",
   "execution_count": 57,
   "metadata": {},
   "outputs": [],
   "source": [
    "model.save(\"myCNNFunctionalAPImodelSPP.h5\")"
   ]
  },
  {
   "cell_type": "code",
   "execution_count": 44,
   "metadata": {},
   "outputs": [
    {
     "name": "stderr",
     "output_type": "stream",
     "text": [
      "Using TensorFlow backend.\n"
     ]
    }
   ],
   "source": [
    "from keras.models import load_model"
   ]
  },
  {
   "cell_type": "code",
   "execution_count": 49,
   "metadata": {},
   "outputs": [],
   "source": [
    "# 從 HDF5 檔案中載入模型\n",
    "model = load_model('myCNNFunctionalAPImodelSPP.h5', custom_objects={'SpatialPyramidPooling': SpatialPyramidPooling})"
   ]
  },
  {
   "cell_type": "code",
   "execution_count": 54,
   "metadata": {},
   "outputs": [
    {
     "name": "stdout",
     "output_type": "stream",
     "text": [
      "Test loss: 0.44688293298435633\n",
      "Test accuracy: 0.7984581589698792\n"
     ]
    }
   ],
   "source": [
    "# 驗證模型\n",
    "score = model.evaluate(x_test, y_test, verbose=0)\n",
    "\n",
    "# 輸出結果\n",
    "print('Test loss:', score[0])\n",
    "print('Test accuracy:', score[1])"
   ]
  },
  {
   "cell_type": "markdown",
   "metadata": {},
   "source": [
    "### 九、小結論 \n",
    "我們經過多次討論和不斷嘗試之後，得出了最終模型，但是這個模型還有許多不足之處，我們之後可能還會對其進行修正。目前訓練資料的正確率已經達到0.8474，而測試資料的正確率也有0.7985，基本上可以排除overfitting的問題。\n",
    "我們在這次的報告當中也遇到許多值得更加深入研究的問題，比如卷積層的層數對結果的影響，dropout，SPP，Conv3D，MaxPooling3D，可以讓我們更加瞭解機器學習是如何運作的。"
   ]
  },
  {
   "cell_type": "code",
   "execution_count": null,
   "metadata": {},
   "outputs": [],
   "source": []
  }
 ],
 "metadata": {
  "kernelspec": {
   "display_name": "Python 3",
   "language": "python",
   "name": "python3"
  },
  "language_info": {
   "codemirror_mode": {
    "name": "ipython",
    "version": 3
   },
   "file_extension": ".py",
   "mimetype": "text/x-python",
   "name": "python",
   "nbconvert_exporter": "python",
   "pygments_lexer": "ipython3",
   "version": "3.6.8"
  }
 },
 "nbformat": 4,
 "nbformat_minor": 2
}
