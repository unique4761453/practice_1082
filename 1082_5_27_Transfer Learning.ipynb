{
 "cells": [
  {
   "cell_type": "markdown",
   "metadata": {},
   "source": [
    "### Transfer Learning\n",
    "* 有三個模型，第一和第二個模型皆是以fashion_mnist做訓練，第二個模型又分為CNN_layers + FC_layers。\n",
    "* 第三個模型則是以CNN_layers裡面的權重加上新的FC_layers_2來訓練mnist資料集。\n",
    "* 第三個模型因為前面的權重固定，只要訓練全連階層的關係，訓練速度非常快，正確率也極高。"
   ]
  },
  {
   "cell_type": "code",
   "execution_count": 33,
   "metadata": {},
   "outputs": [],
   "source": [
    "# Import some useful packages\n",
    "import matplotlib.pyplot as plt\n",
    "import numpy as np\n",
    "\n",
    "# Layers for FNN\n",
    "from tensorflow.keras.models import Sequential\n",
    "from tensorflow.keras.layers import Dense\n",
    "from tensorflow.keras.layers import Flatten\n",
    "\n",
    "# Layers for CNN\n",
    "from tensorflow.keras.layers import Conv2D, MaxPooling2D, GlobalAveragePooling2D,AveragePooling2D\n",
    "\n",
    "from tensorflow.keras.optimizers import SGD, Adam\n",
    "\n",
    "# For data preprocessing\n",
    "from tensorflow.keras import datasets\n",
    "from tensorflow.keras.utils import to_categorical"
   ]
  },
  {
   "cell_type": "code",
   "execution_count": 46,
   "metadata": {},
   "outputs": [],
   "source": [
    "# Load Fashine MNIST\n",
    "#(x_train, y_train0), (x_test, y_test0) = datasets.cifar10.load_data()\n",
    "(x_train, y_train), (x_test, y_test) = datasets.fashion_mnist.load_data()\n",
    "\n",
    "# Reshape size\n",
    "x_train = x_train.reshape(60000,28,28,1)\n",
    "x_test = x_test.reshape(10000,28,28,1)\n",
    "                          \n",
    "# Normalize the range of featurs\n",
    "x_train = x_train / 255\n",
    "x_test = x_test / 255\n",
    "\n",
    "# One-hot encoding\n",
    "y_train = to_categorical(y_train, 10)\n",
    "y_test = to_categorical(y_test, 10)"
   ]
  },
  {
   "cell_type": "code",
   "execution_count": 48,
   "metadata": {},
   "outputs": [
    {
     "data": {
      "text/plain": [
       "(60000, 28, 28, 1)"
      ]
     },
     "execution_count": 48,
     "metadata": {},
     "output_type": "execute_result"
    }
   ],
   "source": [
    "x_train.shape"
   ]
  },
  {
   "cell_type": "code",
   "execution_count": 51,
   "metadata": {},
   "outputs": [
    {
     "data": {
      "text/plain": [
       "(28, 28, 1)"
      ]
     },
     "execution_count": 51,
     "metadata": {},
     "output_type": "execute_result"
    }
   ],
   "source": [
    "x_train[0].shape"
   ]
  },
  {
   "cell_type": "code",
   "execution_count": 65,
   "metadata": {},
   "outputs": [],
   "source": [
    "model= Sequential()\n",
    "model.add(Conv2D(16,(3,3),padding='same',input_shape=(28,28,1),activation= 'relu'))\n",
    "model.add(MaxPooling2D(pool_size=(2,2)))\n",
    "model.add(Conv2D(32,(3,3),padding='same',activation= 'relu'))\n",
    "model.add(MaxPooling2D(pool_size=(2,2)))\n",
    "model.add(Conv2D(64,(3,3),padding='same',activation= 'relu'))\n",
    "model.add(MaxPooling2D(pool_size=(2,2)))\n",
    "model.add(Flatten())\n",
    "model.add(Dense(54,activation='relu'))\n",
    "model.add(Dense(10,activation='softmax'))"
   ]
  },
  {
   "cell_type": "code",
   "execution_count": 66,
   "metadata": {},
   "outputs": [
    {
     "name": "stdout",
     "output_type": "stream",
     "text": [
      "Model: \"sequential_12\"\n",
      "_________________________________________________________________\n",
      "Layer (type)                 Output Shape              Param #   \n",
      "=================================================================\n",
      "conv2d_21 (Conv2D)           (None, 28, 28, 16)        160       \n",
      "_________________________________________________________________\n",
      "max_pooling2d_26 (MaxPooling (None, 14, 14, 16)        0         \n",
      "_________________________________________________________________\n",
      "conv2d_22 (Conv2D)           (None, 14, 14, 32)        4640      \n",
      "_________________________________________________________________\n",
      "max_pooling2d_27 (MaxPooling (None, 7, 7, 32)          0         \n",
      "_________________________________________________________________\n",
      "conv2d_23 (Conv2D)           (None, 7, 7, 64)          18496     \n",
      "_________________________________________________________________\n",
      "max_pooling2d_28 (MaxPooling (None, 3, 3, 64)          0         \n",
      "_________________________________________________________________\n",
      "flatten_4 (Flatten)          (None, 576)               0         \n",
      "_________________________________________________________________\n",
      "dense_12 (Dense)             (None, 54)                31158     \n",
      "_________________________________________________________________\n",
      "dense_13 (Dense)             (None, 10)                550       \n",
      "=================================================================\n",
      "Total params: 55,004\n",
      "Trainable params: 55,004\n",
      "Non-trainable params: 0\n",
      "_________________________________________________________________\n"
     ]
    }
   ],
   "source": [
    "model.summary()"
   ]
  },
  {
   "cell_type": "code",
   "execution_count": 117,
   "metadata": {},
   "outputs": [],
   "source": [
    "model.compile(loss='mse', optimizer=Adam(),metrics=['accuracy'])"
   ]
  },
  {
   "cell_type": "code",
   "execution_count": 109,
   "metadata": {},
   "outputs": [],
   "source": [
    "CNN_layers = [Conv2D(16,(3,3),padding='same',input_shape=(28,28,1),activation= 'relu'),\n",
    "MaxPooling2D(pool_size=(2,2)),\n",
    "Conv2D(32,(3,3),padding='same',activation= 'relu'),\n",
    "MaxPooling2D(pool_size=(2,2)),\n",
    "Conv2D(64,(3,3),padding='same',activation= 'relu'),\n",
    "MaxPooling2D(pool_size=(2,2)),\n",
    "Flatten()]\n",
    "FC_layers = [Dense(54,activation='relu'),Dense(10,activation='softmax')]"
   ]
  },
  {
   "cell_type": "code",
   "execution_count": 110,
   "metadata": {},
   "outputs": [
    {
     "data": {
      "text/plain": [
       "[<tensorflow.python.keras.layers.convolutional.Conv2D at 0x1f0b375bbe0>,\n",
       " <tensorflow.python.keras.layers.pooling.MaxPooling2D at 0x1f0b375bdd8>,\n",
       " <tensorflow.python.keras.layers.convolutional.Conv2D at 0x1f0b375bef0>,\n",
       " <tensorflow.python.keras.layers.pooling.MaxPooling2D at 0x1f0b375d128>,\n",
       " <tensorflow.python.keras.layers.convolutional.Conv2D at 0x1f0b375d1d0>,\n",
       " <tensorflow.python.keras.layers.pooling.MaxPooling2D at 0x1f0b375d3c8>,\n",
       " <tensorflow.python.keras.layers.core.Flatten at 0x1f0b375d4e0>,\n",
       " <tensorflow.python.keras.layers.core.Dense at 0x1f0b375bba8>,\n",
       " <tensorflow.python.keras.layers.core.Dense at 0x1f0b375d748>]"
      ]
     },
     "execution_count": 110,
     "metadata": {},
     "output_type": "execute_result"
    }
   ],
   "source": [
    "CNN_layers + FC_layers"
   ]
  },
  {
   "cell_type": "code",
   "execution_count": 111,
   "metadata": {},
   "outputs": [
    {
     "name": "stdout",
     "output_type": "stream",
     "text": [
      "Model: \"sequential_18\"\n",
      "_________________________________________________________________\n",
      "Layer (type)                 Output Shape              Param #   \n",
      "=================================================================\n",
      "conv2d_30 (Conv2D)           (None, 28, 28, 16)        160       \n",
      "_________________________________________________________________\n",
      "max_pooling2d_35 (MaxPooling (None, 14, 14, 16)        0         \n",
      "_________________________________________________________________\n",
      "conv2d_31 (Conv2D)           (None, 14, 14, 32)        4640      \n",
      "_________________________________________________________________\n",
      "max_pooling2d_36 (MaxPooling (None, 7, 7, 32)          0         \n",
      "_________________________________________________________________\n",
      "conv2d_32 (Conv2D)           (None, 7, 7, 64)          18496     \n",
      "_________________________________________________________________\n",
      "max_pooling2d_37 (MaxPooling (None, 3, 3, 64)          0         \n",
      "_________________________________________________________________\n",
      "flatten_7 (Flatten)          (None, 576)               0         \n",
      "_________________________________________________________________\n",
      "dense_21 (Dense)             (None, 54)                31158     \n",
      "_________________________________________________________________\n",
      "dense_22 (Dense)             (None, 10)                550       \n",
      "=================================================================\n",
      "Total params: 55,004\n",
      "Trainable params: 55,004\n",
      "Non-trainable params: 0\n",
      "_________________________________________________________________\n"
     ]
    }
   ],
   "source": [
    "model_2 = Sequential(CNN_layers+FC_layers)\n",
    "model_2.summary()"
   ]
  },
  {
   "cell_type": "code",
   "execution_count": 112,
   "metadata": {},
   "outputs": [],
   "source": [
    "model_2.compile(loss='mse', optimizer=Adam(),metrics=['accuracy'])"
   ]
  },
  {
   "cell_type": "code",
   "execution_count": 113,
   "metadata": {},
   "outputs": [
    {
     "name": "stdout",
     "output_type": "stream",
     "text": [
      "Train on 60000 samples\n",
      "Epoch 1/12\n",
      "60000/60000 [==============================] - 18s 299us/sample - loss: 0.0311 - accuracy: 0.7759\n",
      "Epoch 2/12\n",
      "60000/60000 [==============================] - 23s 388us/sample - loss: 0.0193 - accuracy: 0.8676\n",
      "Epoch 3/12\n",
      "60000/60000 [==============================] - 21s 358us/sample - loss: 0.0168 - accuracy: 0.8849\n",
      "Epoch 4/12\n",
      "60000/60000 [==============================] - 21s 347us/sample - loss: 0.0154 - accuracy: 0.8944\n",
      "Epoch 5/12\n",
      "60000/60000 [==============================] - 21s 350us/sample - loss: 0.0141 - accuracy: 0.9032\n",
      "Epoch 6/12\n",
      "60000/60000 [==============================] - 21s 349us/sample - loss: 0.0134 - accuracy: 0.9100\n",
      "Epoch 7/12\n",
      "60000/60000 [==============================] - 22s 374us/sample - loss: 0.0127 - accuracy: 0.9140\n",
      "Epoch 8/12\n",
      "60000/60000 [==============================] - 22s 367us/sample - loss: 0.0120 - accuracy: 0.9205\n",
      "Epoch 9/12\n",
      "60000/60000 [==============================] - 21s 357us/sample - loss: 0.0114 - accuracy: 0.9244\n",
      "Epoch 10/12\n",
      "60000/60000 [==============================] - 22s 358us/sample - loss: 0.0108 - accuracy: 0.9276\n",
      "Epoch 11/12\n",
      "60000/60000 [==============================] - 21s 357us/sample - loss: 0.0104 - accuracy: 0.9312\n",
      "Epoch 12/12\n",
      "60000/60000 [==============================] - 22s 359us/sample - loss: 0.0099 - accuracy: 0.9349\n"
     ]
    },
    {
     "data": {
      "text/plain": [
       "<tensorflow.python.keras.callbacks.History at 0x1f0b36889b0>"
      ]
     },
     "execution_count": 113,
     "metadata": {},
     "output_type": "execute_result"
    }
   ],
   "source": [
    "model_2.fit(x_train,y_train,batch_size=128,epochs=12)"
   ]
  },
  {
   "cell_type": "code",
   "execution_count": 114,
   "metadata": {},
   "outputs": [],
   "source": [
    "model_2.save_weights('LeNet5_fashion_mnist.h5')"
   ]
  },
  {
   "cell_type": "code",
   "execution_count": 115,
   "metadata": {},
   "outputs": [],
   "source": [
    "model.load_weights('LeNet5_fashion_mnist.h5')"
   ]
  },
  {
   "cell_type": "code",
   "execution_count": 118,
   "metadata": {},
   "outputs": [
    {
     "name": "stdout",
     "output_type": "stream",
     "text": [
      "60000/60000 [==============================] - 6s 105us/sample - loss: 0.0091 - accuracy: 0.9412\n"
     ]
    }
   ],
   "source": [
    "score_train = model.evaluate(x_train, y_train)"
   ]
  },
  {
   "cell_type": "code",
   "execution_count": 99,
   "metadata": {},
   "outputs": [
    {
     "data": {
      "text/plain": [
       "[<tensorflow.python.keras.layers.convolutional.Conv2D at 0x1f0aca15048>,\n",
       " <tensorflow.python.keras.layers.pooling.MaxPooling2D at 0x1f0aca15240>,\n",
       " <tensorflow.python.keras.layers.convolutional.Conv2D at 0x1f0aca15358>,\n",
       " <tensorflow.python.keras.layers.pooling.MaxPooling2D at 0x1f0aca15550>,\n",
       " <tensorflow.python.keras.layers.convolutional.Conv2D at 0x1f0aca15668>,\n",
       " <tensorflow.python.keras.layers.pooling.MaxPooling2D at 0x1f0aca15898>,\n",
       " <tensorflow.python.keras.layers.core.Flatten at 0x1f0aca159b0>,\n",
       " <tensorflow.python.keras.layers.core.Dense at 0x1f0aca28fd0>,\n",
       " <tensorflow.python.keras.layers.core.Dense at 0x1f0aca15c18>]"
      ]
     },
     "execution_count": 99,
     "metadata": {},
     "output_type": "execute_result"
    }
   ],
   "source": [
    "model_2.layers"
   ]
  },
  {
   "cell_type": "code",
   "execution_count": 87,
   "metadata": {},
   "outputs": [],
   "source": [
    "from tensorflow.keras.datasets import mnist"
   ]
  },
  {
   "cell_type": "code",
   "execution_count": 119,
   "metadata": {},
   "outputs": [],
   "source": [
    "(u_train, v_train), (u_test, v_test) = mnist.load_data()\n",
    "\n",
    "# Normalize the range of featurs\n",
    "u_train = u_train.reshape(60000,28,28,1) /255\n",
    "u_test = u_test.reshape(10000,28,28,1) / 255\n",
    "\n",
    "# One-hot encoding\n",
    "v_train = to_categorical(v_train, 10)\n",
    "v_test = to_categorical(v_test, 10)"
   ]
  },
  {
   "cell_type": "code",
   "execution_count": 120,
   "metadata": {},
   "outputs": [],
   "source": [
    "FC_layers_2 = [Dense(units=256, activation='relu'),\n",
    "               Dense(units=128, activation='relu'),\n",
    "               Dense(units=10, activation='softmax')]"
   ]
  },
  {
   "cell_type": "code",
   "execution_count": 121,
   "metadata": {},
   "outputs": [],
   "source": [
    "for layer in CNN_layers:\n",
    "    layer.trainable = False"
   ]
  },
  {
   "cell_type": "code",
   "execution_count": 122,
   "metadata": {},
   "outputs": [
    {
     "name": "stdout",
     "output_type": "stream",
     "text": [
      "Model: \"sequential_19\"\n",
      "_________________________________________________________________\n",
      "Layer (type)                 Output Shape              Param #   \n",
      "=================================================================\n",
      "conv2d_30 (Conv2D)           (None, 28, 28, 16)        160       \n",
      "_________________________________________________________________\n",
      "max_pooling2d_35 (MaxPooling (None, 14, 14, 16)        0         \n",
      "_________________________________________________________________\n",
      "conv2d_31 (Conv2D)           (None, 14, 14, 32)        4640      \n",
      "_________________________________________________________________\n",
      "max_pooling2d_36 (MaxPooling (None, 7, 7, 32)          0         \n",
      "_________________________________________________________________\n",
      "conv2d_32 (Conv2D)           (None, 7, 7, 64)          18496     \n",
      "_________________________________________________________________\n",
      "max_pooling2d_37 (MaxPooling (None, 3, 3, 64)          0         \n",
      "_________________________________________________________________\n",
      "flatten_7 (Flatten)          (None, 576)               0         \n",
      "_________________________________________________________________\n",
      "dense_23 (Dense)             (None, 256)               147712    \n",
      "_________________________________________________________________\n",
      "dense_24 (Dense)             (None, 128)               32896     \n",
      "_________________________________________________________________\n",
      "dense_25 (Dense)             (None, 10)                1290      \n",
      "=================================================================\n",
      "Total params: 205,194\n",
      "Trainable params: 181,898\n",
      "Non-trainable params: 23,296\n",
      "_________________________________________________________________\n"
     ]
    }
   ],
   "source": [
    "model_3 = Sequential(CNN_layers+FC_layers_2)\n",
    "model_3.summary()"
   ]
  },
  {
   "cell_type": "code",
   "execution_count": 123,
   "metadata": {},
   "outputs": [],
   "source": [
    "model_3.compile(loss='mse', optimizer=Adam(),metrics=['accuracy'])"
   ]
  },
  {
   "cell_type": "code",
   "execution_count": 124,
   "metadata": {},
   "outputs": [
    {
     "name": "stdout",
     "output_type": "stream",
     "text": [
      "Train on 60000 samples, validate on 10000 samples\n",
      "Epoch 1/5\n",
      "60000/60000 [==============================] - 7s 118us/sample - loss: 0.0087 - accuracy: 0.9419 - val_loss: 0.0041 - val_accuracy: 0.9730\n",
      "Epoch 2/5\n",
      "60000/60000 [==============================] - 6s 101us/sample - loss: 0.0037 - accuracy: 0.9760 - val_loss: 0.0042 - val_accuracy: 0.9740\n",
      "Epoch 3/5\n",
      "60000/60000 [==============================] - 8s 136us/sample - loss: 0.0028 - accuracy: 0.9817 - val_loss: 0.0029 - val_accuracy: 0.9800\n",
      "Epoch 4/5\n",
      "60000/60000 [==============================] - 8s 137us/sample - loss: 0.0025 - accuracy: 0.9837 - val_loss: 0.0033 - val_accuracy: 0.9776\n",
      "Epoch 5/5\n",
      "60000/60000 [==============================] - 8s 137us/sample - loss: 0.0022 - accuracy: 0.9855 - val_loss: 0.0030 - val_accuracy: 0.9792\n"
     ]
    },
    {
     "data": {
      "text/plain": [
       "<tensorflow.python.keras.callbacks.History at 0x1f0b3b969b0>"
      ]
     },
     "execution_count": 124,
     "metadata": {},
     "output_type": "execute_result"
    }
   ],
   "source": [
    "model_3.fit(u_train, v_train,batch_size=128, epochs=5,validation_data=(u_test, v_test))"
   ]
  },
  {
   "cell_type": "code",
   "execution_count": 125,
   "metadata": {},
   "outputs": [
    {
     "name": "stdout",
     "output_type": "stream",
     "text": [
      "60000/60000 [==============================] - 6s 108us/sample - loss: 0.0091 - accuracy: 0.9412\n"
     ]
    }
   ],
   "source": [
    "score_train = model.evaluate(x_train, y_train)"
   ]
  },
  {
   "cell_type": "code",
   "execution_count": 126,
   "metadata": {},
   "outputs": [
    {
     "name": "stdout",
     "output_type": "stream",
     "text": [
      "60000/60000 [==============================] - 7s 112us/sample - loss: 0.0020 - accuracy: 0.9871\n"
     ]
    }
   ],
   "source": [
    "score_train = model_3.evaluate(u_train, v_train)"
   ]
  },
  {
   "cell_type": "code",
   "execution_count": null,
   "metadata": {},
   "outputs": [],
   "source": []
  }
 ],
 "metadata": {
  "kernelspec": {
   "display_name": "Python 3",
   "language": "python",
   "name": "python3"
  },
  "language_info": {
   "codemirror_mode": {
    "name": "ipython",
    "version": 3
   },
   "file_extension": ".py",
   "mimetype": "text/x-python",
   "name": "python",
   "nbconvert_exporter": "python",
   "pygments_lexer": "ipython3",
   "version": "3.6.8"
  },
  "toc": {
   "base_numbering": 1,
   "nav_menu": {},
   "number_sections": true,
   "sideBar": true,
   "skip_h1_title": false,
   "title_cell": "Table of Contents",
   "title_sidebar": "Contents",
   "toc_cell": false,
   "toc_position": {},
   "toc_section_display": true,
   "toc_window_display": false
  }
 },
 "nbformat": 4,
 "nbformat_minor": 2
}
