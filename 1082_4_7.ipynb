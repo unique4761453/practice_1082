{
 "cells": [
  {
   "cell_type": "markdown",
   "metadata": {},
   "source": [
    "## CNN\n",
    "#### 基本上三個模型的參數都一樣，只有每一層的convolution有所變化，第一個模型的convolution是從少到多，第二個模型的convolution是從第一個模型的convolution數字順序顛倒過來，第三個模型為了觀察更顯著的變化，我將convolution第二的模型的convolution參數放大得到第三個模型的參數\n",
    "\n",
    "### 第一個CNN模型\n",
    "#第一層convolution設定16個，max_pooling設定2*2\n",
    "#第二層convolution設定32個，max_pooling設定2*2\n",
    "#第三層convolution設定64個，max_pooling設定2*2\n",
    "\n",
    "### 第二個CNN模型\n",
    "#第一層convolution設定64個，max_pooling設定2*2\n",
    "#第二層convolution設定32個，max_pooling設定2*2\n",
    "#第三層convolution設定16個，max_pooling設定2*2\n",
    "\n",
    "### 第三個CNN模型\n",
    "#第一層convolution設定256個，max_pooling設定2*2\n",
    "#第二層convolution設定64個，max_pooling設定2*2\n",
    "#第三層convolution設定16個，max_pooling設定2*2"
   ]
  },
  {
   "cell_type": "markdown",
   "metadata": {},
   "source": [
    "## 結果\n",
    "### 第一個模型\n",
    "#每個epoch所用時間大約30秒上下，平均訓練速度 530us/sample左右\n",
    "#訓練資料最終正確率0.8130\n",
    "#測試資料正確率0.7921\n",
    "\n",
    "### 第二個模型\n",
    "#每個epoch所用時間大約65秒上下，平均訓練速度 1ms/sample左右\n",
    "#訓練資料最終正確率0.7939\n",
    "#測試資料正確率0.7712\n",
    "\n",
    "### 第三個模型\n",
    "#每個epoch所用時間大約240秒上下，平均訓練速度 4ms/sample左右\n",
    "#訓練資料最終正確率0.7853\n",
    "#測試資料正確率0.7883\n"
   ]
  },
  {
   "cell_type": "markdown",
   "metadata": {},
   "source": [
    "## 小結論\n",
    "#因為我很好奇說為什麼convolution的參數設定要是越來越多，所以設計了三個模型來觀察這個問題，發現三個模型的機器學習正確率都相差不大，大概都是0.79上下，但是訓練時的速度卻是大大的有差別，如果convolution參數設定是越來越少的話，訓練的速度就會非常的慢"
   ]
  },
  {
   "cell_type": "code",
   "execution_count": 1,
   "metadata": {},
   "outputs": [],
   "source": [
    "%matplotlib inline\n",
    "import pandas as pd\n",
    "import numpy as np\n",
    "import matplotlib.pyplot as plt"
   ]
  },
  {
   "cell_type": "code",
   "execution_count": 2,
   "metadata": {},
   "outputs": [],
   "source": [
    "from tensorflow.keras.datasets import fashion_mnist"
   ]
  },
  {
   "cell_type": "code",
   "execution_count": 3,
   "metadata": {},
   "outputs": [],
   "source": [
    "(x_train, y_train), (x_test, y_test) = fashion_mnist.load_data()"
   ]
  },
  {
   "cell_type": "code",
   "execution_count": 4,
   "metadata": {},
   "outputs": [
    {
     "data": {
      "text/plain": [
       "(60000, 28, 28)"
      ]
     },
     "execution_count": 4,
     "metadata": {},
     "output_type": "execute_result"
    }
   ],
   "source": [
    "(x_train.shape)"
   ]
  },
  {
   "cell_type": "code",
   "execution_count": 5,
   "metadata": {},
   "outputs": [],
   "source": [
    "class_names = ['T-shirt/top', 'Trouser', 'Pullover', 'Dress', 'Coat',\n",
    "               'Sandal', 'Shirt', 'Sneaker', 'Bag', 'Ankle boot']"
   ]
  },
  {
   "cell_type": "code",
   "execution_count": 6,
   "metadata": {},
   "outputs": [],
   "source": [
    "x_train= x_train.reshape(60000,28,28,1)/255\n",
    "x_test= x_test.reshape(10000,28,28,1)/255"
   ]
  },
  {
   "cell_type": "code",
   "execution_count": 7,
   "metadata": {},
   "outputs": [],
   "source": [
    "from tensorflow.keras.utils import to_categorical"
   ]
  },
  {
   "cell_type": "code",
   "execution_count": 8,
   "metadata": {},
   "outputs": [],
   "source": [
    "y_train= to_categorical(y_train,10)\n",
    "y_test= to_categorical(y_test,10)"
   ]
  },
  {
   "cell_type": "code",
   "execution_count": 9,
   "metadata": {},
   "outputs": [],
   "source": [
    "from tensorflow.keras.models import Sequential\n",
    "from tensorflow.keras.layers import Conv2D,MaxPooling2D\n",
    "from tensorflow.keras.layers import Dense,Flatten\n",
    "from tensorflow.keras.optimizers import SGD"
   ]
  },
  {
   "cell_type": "markdown",
   "metadata": {},
   "source": [
    "## 打造CNN\n",
    "##第一層convolution設定16個，max_pooling設定2*2\n",
    "##第二層convolution設定32個，max_pooling設定2*2\n",
    "##第三層convolution設定64個，max_pooling設定2*2"
   ]
  },
  {
   "cell_type": "code",
   "execution_count": 10,
   "metadata": {},
   "outputs": [],
   "source": [
    "model= Sequential()"
   ]
  },
  {
   "cell_type": "code",
   "execution_count": 11,
   "metadata": {},
   "outputs": [],
   "source": [
    "model.add(Conv2D(16,(3,3),padding='same',##出來的時候大小一樣\n",
    "                input_shape=(28,28,1),##第一層才要這個\n",
    "                activation= 'relu'))"
   ]
  },
  {
   "cell_type": "code",
   "execution_count": 12,
   "metadata": {},
   "outputs": [],
   "source": [
    "model.add(MaxPooling2D(pool_size=(2,2)))"
   ]
  },
  {
   "cell_type": "code",
   "execution_count": 13,
   "metadata": {},
   "outputs": [],
   "source": [
    "model.add(Conv2D(32,(3,3),padding='same',\n",
    "                activation= 'relu'))"
   ]
  },
  {
   "cell_type": "code",
   "execution_count": 14,
   "metadata": {},
   "outputs": [],
   "source": [
    "model.add(MaxPooling2D(pool_size=(2,2)))"
   ]
  },
  {
   "cell_type": "code",
   "execution_count": 15,
   "metadata": {},
   "outputs": [],
   "source": [
    "model.add(Conv2D(64,(3,3),padding='same',\n",
    "                activation= 'relu'))"
   ]
  },
  {
   "cell_type": "code",
   "execution_count": 16,
   "metadata": {},
   "outputs": [],
   "source": [
    "model.add(MaxPooling2D(pool_size=(2,2)))"
   ]
  },
  {
   "cell_type": "code",
   "execution_count": 17,
   "metadata": {},
   "outputs": [],
   "source": [
    "model.add(Flatten())"
   ]
  },
  {
   "cell_type": "code",
   "execution_count": 18,
   "metadata": {},
   "outputs": [],
   "source": [
    "model.add(Dense(54,activation='relu'))"
   ]
  },
  {
   "cell_type": "code",
   "execution_count": 19,
   "metadata": {},
   "outputs": [],
   "source": [
    "model.add(Dense(10,activation='softmax'))"
   ]
  },
  {
   "cell_type": "code",
   "execution_count": 20,
   "metadata": {},
   "outputs": [
    {
     "name": "stdout",
     "output_type": "stream",
     "text": [
      "Model: \"sequential\"\n",
      "_________________________________________________________________\n",
      "Layer (type)                 Output Shape              Param #   \n",
      "=================================================================\n",
      "conv2d (Conv2D)              (None, 28, 28, 16)        160       \n",
      "_________________________________________________________________\n",
      "max_pooling2d (MaxPooling2D) (None, 14, 14, 16)        0         \n",
      "_________________________________________________________________\n",
      "conv2d_1 (Conv2D)            (None, 14, 14, 32)        4640      \n",
      "_________________________________________________________________\n",
      "max_pooling2d_1 (MaxPooling2 (None, 7, 7, 32)          0         \n",
      "_________________________________________________________________\n",
      "conv2d_2 (Conv2D)            (None, 7, 7, 64)          18496     \n",
      "_________________________________________________________________\n",
      "max_pooling2d_2 (MaxPooling2 (None, 3, 3, 64)          0         \n",
      "_________________________________________________________________\n",
      "flatten (Flatten)            (None, 576)               0         \n",
      "_________________________________________________________________\n",
      "dense (Dense)                (None, 54)                31158     \n",
      "_________________________________________________________________\n",
      "dense_1 (Dense)              (None, 10)                550       \n",
      "=================================================================\n",
      "Total params: 55,004\n",
      "Trainable params: 55,004\n",
      "Non-trainable params: 0\n",
      "_________________________________________________________________\n"
     ]
    }
   ],
   "source": [
    "model.summary()"
   ]
  },
  {
   "cell_type": "code",
   "execution_count": 21,
   "metadata": {},
   "outputs": [],
   "source": [
    "model.compile(loss=\"mse\",optimizer=SGD(lr=0.087),\n",
    "             metrics=[\"accuracy\"])"
   ]
  },
  {
   "cell_type": "code",
   "execution_count": 21,
   "metadata": {
    "scrolled": true
   },
   "outputs": [
    {
     "name": "stdout",
     "output_type": "stream",
     "text": [
      "Train on 60000 samples\n",
      "Epoch 1/12\n",
      "60000/60000 [==============================] - 32s 535us/sample - loss: 0.0890 - accuracy: 0.2132\n",
      "Epoch 2/12\n",
      "60000/60000 [==============================] - 32s 539us/sample - loss: 0.0814 - accuracy: 0.3612\n",
      "Epoch 3/12\n",
      "60000/60000 [==============================] - 31s 525us/sample - loss: 0.0531 - accuracy: 0.6076\n",
      "Epoch 4/12\n",
      "60000/60000 [==============================] - 31s 513us/sample - loss: 0.0428 - accuracy: 0.6901\n",
      "Epoch 5/12\n",
      "60000/60000 [==============================] - 31s 514us/sample - loss: 0.0384 - accuracy: 0.7253\n",
      "Epoch 6/12\n",
      "60000/60000 [==============================] - 32s 532us/sample - loss: 0.0351 - accuracy: 0.7517\n",
      "Epoch 7/12\n",
      "60000/60000 [==============================] - 32s 533us/sample - loss: 0.0331 - accuracy: 0.7682\n",
      "Epoch 8/12\n",
      "60000/60000 [==============================] - 31s 519us/sample - loss: 0.0315 - accuracy: 0.7802\n",
      "Epoch 9/12\n",
      "60000/60000 [==============================] - 31s 513us/sample - loss: 0.0302 - accuracy: 0.7885\n",
      "Epoch 10/12\n",
      "60000/60000 [==============================] - 31s 519us/sample - loss: 0.0290 - accuracy: 0.7975\n",
      "Epoch 11/12\n",
      "60000/60000 [==============================] - 33s 548us/sample - loss: 0.0280 - accuracy: 0.8050\n",
      "Epoch 12/12\n",
      "60000/60000 [==============================] - 31s 516us/sample - loss: 0.0270 - accuracy: 0.8130\n"
     ]
    },
    {
     "data": {
      "text/plain": [
       "<tensorflow.python.keras.callbacks.History at 0x154804ac6d8>"
      ]
     },
     "execution_count": 21,
     "metadata": {},
     "output_type": "execute_result"
    }
   ],
   "source": [
    "model.fit(x_train,y_train,batch_size=128,epochs=12)"
   ]
  },
  {
   "cell_type": "markdown",
   "metadata": {},
   "source": [
    "### 第二個CNN\n",
    "##第一層convolution設定64個，max_pooling設定2*2\n",
    "##第二層convolution設定32個，max_pooling設定2*2\n",
    "##第三層convolution設定16個，max_pooling設定2*2"
   ]
  },
  {
   "cell_type": "code",
   "execution_count": 22,
   "metadata": {},
   "outputs": [],
   "source": [
    "model2= Sequential()"
   ]
  },
  {
   "cell_type": "code",
   "execution_count": 23,
   "metadata": {},
   "outputs": [],
   "source": [
    "model2.add(Conv2D(64,(3,3),padding='same',##出來的時候大小一樣\n",
    "                input_shape=(28,28,1),##第一層才要這個\n",
    "                activation= 'relu'))"
   ]
  },
  {
   "cell_type": "code",
   "execution_count": 24,
   "metadata": {},
   "outputs": [],
   "source": [
    "model2.add(MaxPooling2D(pool_size=(2,2)))"
   ]
  },
  {
   "cell_type": "code",
   "execution_count": 25,
   "metadata": {},
   "outputs": [],
   "source": [
    "model2.add(Conv2D(32,(3,3),padding='same',\n",
    "                activation= 'relu'))"
   ]
  },
  {
   "cell_type": "code",
   "execution_count": 26,
   "metadata": {},
   "outputs": [],
   "source": [
    "model2.add(MaxPooling2D(pool_size=(2,2)))"
   ]
  },
  {
   "cell_type": "code",
   "execution_count": 27,
   "metadata": {},
   "outputs": [],
   "source": [
    "model2.add(Conv2D(16,(3,3),padding='same',\n",
    "                activation= 'relu'))"
   ]
  },
  {
   "cell_type": "code",
   "execution_count": 28,
   "metadata": {},
   "outputs": [],
   "source": [
    "model2.add(MaxPooling2D(pool_size=(2,2)))"
   ]
  },
  {
   "cell_type": "code",
   "execution_count": 29,
   "metadata": {},
   "outputs": [],
   "source": [
    "model2.add(Flatten())"
   ]
  },
  {
   "cell_type": "code",
   "execution_count": 30,
   "metadata": {},
   "outputs": [],
   "source": [
    "model2.add(Dense(54,activation='relu'))"
   ]
  },
  {
   "cell_type": "code",
   "execution_count": 31,
   "metadata": {},
   "outputs": [],
   "source": [
    "model2.add(Dense(10,activation='softmax'))"
   ]
  },
  {
   "cell_type": "code",
   "execution_count": 32,
   "metadata": {},
   "outputs": [
    {
     "name": "stdout",
     "output_type": "stream",
     "text": [
      "Model: \"sequential_1\"\n",
      "_________________________________________________________________\n",
      "Layer (type)                 Output Shape              Param #   \n",
      "=================================================================\n",
      "conv2d_3 (Conv2D)            (None, 28, 28, 64)        640       \n",
      "_________________________________________________________________\n",
      "max_pooling2d_3 (MaxPooling2 (None, 14, 14, 64)        0         \n",
      "_________________________________________________________________\n",
      "conv2d_4 (Conv2D)            (None, 14, 14, 32)        18464     \n",
      "_________________________________________________________________\n",
      "max_pooling2d_4 (MaxPooling2 (None, 7, 7, 32)          0         \n",
      "_________________________________________________________________\n",
      "conv2d_5 (Conv2D)            (None, 7, 7, 16)          4624      \n",
      "_________________________________________________________________\n",
      "max_pooling2d_5 (MaxPooling2 (None, 3, 3, 16)          0         \n",
      "_________________________________________________________________\n",
      "flatten_1 (Flatten)          (None, 144)               0         \n",
      "_________________________________________________________________\n",
      "dense_2 (Dense)              (None, 54)                7830      \n",
      "_________________________________________________________________\n",
      "dense_3 (Dense)              (None, 10)                550       \n",
      "=================================================================\n",
      "Total params: 32,108\n",
      "Trainable params: 32,108\n",
      "Non-trainable params: 0\n",
      "_________________________________________________________________\n"
     ]
    }
   ],
   "source": [
    "model2.summary()"
   ]
  },
  {
   "cell_type": "code",
   "execution_count": 33,
   "metadata": {},
   "outputs": [],
   "source": [
    "model2.compile(loss=\"mse\",optimizer=SGD(lr=0.087),\n",
    "             metrics=[\"accuracy\"])"
   ]
  },
  {
   "cell_type": "code",
   "execution_count": 34,
   "metadata": {},
   "outputs": [
    {
     "name": "stdout",
     "output_type": "stream",
     "text": [
      "Train on 60000 samples\n",
      "Epoch 1/12\n",
      "60000/60000 [==============================] - 66s 1ms/sample - loss: 0.0897 - accuracy: 0.1893\n",
      "Epoch 2/12\n",
      "60000/60000 [==============================] - 66s 1ms/sample - loss: 0.0888 - accuracy: 0.3309\n",
      "Epoch 3/12\n",
      "60000/60000 [==============================] - 66s 1ms/sample - loss: 0.0844 - accuracy: 0.4674\n",
      "Epoch 4/12\n",
      "60000/60000 [==============================] - 65s 1ms/sample - loss: 0.0544 - accuracy: 0.6158\n",
      "Epoch 5/12\n",
      "60000/60000 [==============================] - 65s 1ms/sample - loss: 0.0417 - accuracy: 0.6902\n",
      "Epoch 6/12\n",
      "60000/60000 [==============================] - 65s 1ms/sample - loss: 0.0377 - accuracy: 0.7248\n",
      "Epoch 7/12\n",
      "60000/60000 [==============================] - 65s 1ms/sample - loss: 0.0350 - accuracy: 0.7469\n",
      "Epoch 8/12\n",
      "60000/60000 [==============================] - 65s 1ms/sample - loss: 0.0333 - accuracy: 0.7604\n",
      "Epoch 9/12\n",
      "60000/60000 [==============================] - 65s 1ms/sample - loss: 0.0321 - accuracy: 0.7720\n",
      "Epoch 10/12\n",
      "60000/60000 [==============================] - 65s 1ms/sample - loss: 0.0309 - accuracy: 0.7808\n",
      "Epoch 11/12\n",
      "60000/60000 [==============================] - 66s 1ms/sample - loss: 0.0300 - accuracy: 0.7877\n",
      "Epoch 12/12\n",
      "60000/60000 [==============================] - 65s 1ms/sample - loss: 0.0293 - accuracy: 0.7939\n"
     ]
    },
    {
     "data": {
      "text/plain": [
       "<tensorflow.python.keras.callbacks.History at 0x15480649438>"
      ]
     },
     "execution_count": 34,
     "metadata": {},
     "output_type": "execute_result"
    }
   ],
   "source": [
    "model2.fit(x_train,y_train,batch_size=128,epochs=12)"
   ]
  },
  {
   "cell_type": "code",
   "execution_count": 37,
   "metadata": {},
   "outputs": [
    {
     "name": "stdout",
     "output_type": "stream",
     "text": [
      "10000/10000 [==============================] - 3s 283us/sample - loss: 0.0296 - accuracy: 0.7921\n"
     ]
    }
   ],
   "source": [
    "score = model.evaluate(x_test,y_test)"
   ]
  },
  {
   "cell_type": "code",
   "execution_count": 38,
   "metadata": {},
   "outputs": [
    {
     "name": "stdout",
     "output_type": "stream",
     "text": [
      "10000/10000 [==============================] - 5s 450us/sample - loss: 0.0320 - accuracy: 0.7712\n"
     ]
    }
   ],
   "source": [
    "score = model2.evaluate(x_test,y_test)"
   ]
  },
  {
   "cell_type": "markdown",
   "metadata": {},
   "source": [
    "### 第三個CNN\n",
    "##第一層convolution設定256個，max_pooling設定2*2\n",
    "##第二層convolution設定64個，max_pooling設定2*2\n",
    "##第三層convolution設定16個，max_pooling設定2*2"
   ]
  },
  {
   "cell_type": "code",
   "execution_count": 39,
   "metadata": {},
   "outputs": [],
   "source": [
    "model3= Sequential()"
   ]
  },
  {
   "cell_type": "code",
   "execution_count": 40,
   "metadata": {},
   "outputs": [],
   "source": [
    "model3.add(Conv2D(256,(3,3),padding='same',##出來的時候大小一樣\n",
    "                input_shape=(28,28,1),##第一層才要這個\n",
    "                activation= 'relu'))"
   ]
  },
  {
   "cell_type": "code",
   "execution_count": 41,
   "metadata": {},
   "outputs": [],
   "source": [
    "model3.add(MaxPooling2D(pool_size=(2,2)))"
   ]
  },
  {
   "cell_type": "code",
   "execution_count": 42,
   "metadata": {},
   "outputs": [],
   "source": [
    "model3.add(Conv2D(64,(3,3),padding='same',\n",
    "                activation= 'relu'))"
   ]
  },
  {
   "cell_type": "code",
   "execution_count": 43,
   "metadata": {},
   "outputs": [],
   "source": [
    "model3.add(MaxPooling2D(pool_size=(2,2)))"
   ]
  },
  {
   "cell_type": "code",
   "execution_count": 44,
   "metadata": {},
   "outputs": [],
   "source": [
    "model3.add(Conv2D(16,(3,3),padding='same',\n",
    "                activation= 'relu'))"
   ]
  },
  {
   "cell_type": "code",
   "execution_count": 45,
   "metadata": {},
   "outputs": [],
   "source": [
    "model3.add(MaxPooling2D(pool_size=(2,2)))"
   ]
  },
  {
   "cell_type": "code",
   "execution_count": 46,
   "metadata": {},
   "outputs": [],
   "source": [
    "model3.add(Flatten())"
   ]
  },
  {
   "cell_type": "code",
   "execution_count": 47,
   "metadata": {},
   "outputs": [],
   "source": [
    "model3.add(Dense(54,activation='relu'))"
   ]
  },
  {
   "cell_type": "code",
   "execution_count": 48,
   "metadata": {},
   "outputs": [],
   "source": [
    "model3.add(Dense(10,activation='softmax'))"
   ]
  },
  {
   "cell_type": "code",
   "execution_count": 49,
   "metadata": {},
   "outputs": [
    {
     "name": "stdout",
     "output_type": "stream",
     "text": [
      "Model: \"sequential_2\"\n",
      "_________________________________________________________________\n",
      "Layer (type)                 Output Shape              Param #   \n",
      "=================================================================\n",
      "conv2d_6 (Conv2D)            (None, 28, 28, 256)       2560      \n",
      "_________________________________________________________________\n",
      "max_pooling2d_6 (MaxPooling2 (None, 14, 14, 256)       0         \n",
      "_________________________________________________________________\n",
      "conv2d_7 (Conv2D)            (None, 14, 14, 64)        147520    \n",
      "_________________________________________________________________\n",
      "max_pooling2d_7 (MaxPooling2 (None, 7, 7, 64)          0         \n",
      "_________________________________________________________________\n",
      "conv2d_8 (Conv2D)            (None, 7, 7, 16)          9232      \n",
      "_________________________________________________________________\n",
      "max_pooling2d_8 (MaxPooling2 (None, 3, 3, 16)          0         \n",
      "_________________________________________________________________\n",
      "flatten_2 (Flatten)          (None, 144)               0         \n",
      "_________________________________________________________________\n",
      "dense_4 (Dense)              (None, 54)                7830      \n",
      "_________________________________________________________________\n",
      "dense_5 (Dense)              (None, 10)                550       \n",
      "=================================================================\n",
      "Total params: 167,692\n",
      "Trainable params: 167,692\n",
      "Non-trainable params: 0\n",
      "_________________________________________________________________\n"
     ]
    }
   ],
   "source": [
    "model3.summary()"
   ]
  },
  {
   "cell_type": "code",
   "execution_count": 50,
   "metadata": {},
   "outputs": [],
   "source": [
    "model3.compile(loss=\"mse\",optimizer=SGD(lr=0.087),\n",
    "             metrics=[\"accuracy\"])"
   ]
  },
  {
   "cell_type": "code",
   "execution_count": 51,
   "metadata": {},
   "outputs": [
    {
     "name": "stdout",
     "output_type": "stream",
     "text": [
      "Train on 60000 samples\n",
      "Epoch 1/12\n",
      "60000/60000 [==============================] - 262s 4ms/sample - loss: 0.0897 - accuracy: 0.2116\n",
      "Epoch 2/12\n",
      "60000/60000 [==============================] - 261s 4ms/sample - loss: 0.0890 - accuracy: 0.2821\n",
      "Epoch 3/12\n",
      "60000/60000 [==============================] - 255s 4ms/sample - loss: 0.0868 - accuracy: 0.3434\n",
      "Epoch 4/12\n",
      "60000/60000 [==============================] - 257s 4ms/sample - loss: 0.0683 - accuracy: 0.5239\n",
      "Epoch 5/12\n",
      "60000/60000 [==============================] - 257s 4ms/sample - loss: 0.0429 - accuracy: 0.6934\n",
      "Epoch 6/12\n",
      "60000/60000 [==============================] - 255s 4ms/sample - loss: 0.0388 - accuracy: 0.7181\n",
      "Epoch 7/12\n",
      "60000/60000 [==============================] - 262s 4ms/sample - loss: 0.0365 - accuracy: 0.7381\n",
      "Epoch 8/12\n",
      "60000/60000 [==============================] - 249s 4ms/sample - loss: 0.0350 - accuracy: 0.7517\n",
      "Epoch 9/12\n",
      "60000/60000 [==============================] - 249s 4ms/sample - loss: 0.0337 - accuracy: 0.7620\n",
      "Epoch 10/12\n",
      "60000/60000 [==============================] - 196s 3ms/sample - loss: 0.0326 - accuracy: 0.7707\n",
      "Epoch 11/12\n",
      "60000/60000 [==============================] - 182s 3ms/sample - loss: 0.0316 - accuracy: 0.7785\n",
      "Epoch 12/12\n",
      "60000/60000 [==============================] - 187s 3ms/sample - loss: 0.0307 - accuracy: 0.7853\n"
     ]
    },
    {
     "data": {
      "text/plain": [
       "<tensorflow.python.keras.callbacks.History at 0x15480851710>"
      ]
     },
     "execution_count": 51,
     "metadata": {},
     "output_type": "execute_result"
    }
   ],
   "source": [
    "model3.fit(x_train,y_train,batch_size=128,epochs=12)"
   ]
  },
  {
   "cell_type": "code",
   "execution_count": 52,
   "metadata": {},
   "outputs": [
    {
     "name": "stdout",
     "output_type": "stream",
     "text": [
      "10000/10000 [==============================] - 15s 1ms/sample - loss: 0.0309 - accuracy: 0.7883\n"
     ]
    }
   ],
   "source": [
    "score = model3.evaluate(x_test,y_test)"
   ]
  },
  {
   "cell_type": "code",
   "execution_count": null,
   "metadata": {},
   "outputs": [],
   "source": []
  }
 ],
 "metadata": {
  "kernelspec": {
   "display_name": "Python 3",
   "language": "python",
   "name": "python3"
  },
  "language_info": {
   "codemirror_mode": {
    "name": "ipython",
    "version": 3
   },
   "file_extension": ".py",
   "mimetype": "text/x-python",
   "name": "python",
   "nbconvert_exporter": "python",
   "pygments_lexer": "ipython3",
   "version": "3.6.8"
  }
 },
 "nbformat": 4,
 "nbformat_minor": 2
}
