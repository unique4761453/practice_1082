{
 "cells": [
  {
   "cell_type": "code",
   "execution_count": 5,
   "metadata": {},
   "outputs": [],
   "source": [
    "# Import some useful packages\n",
    "import matplotlib.pyplot as plt\n",
    "import numpy as np\n",
    "\n",
    "# Layers for FNN\n",
    "from tensorflow.keras.models import Sequential\n",
    "from tensorflow.keras.layers import Dense\n",
    "from tensorflow.keras.layers import Flatten\n",
    "\n",
    "# Layers for CNN\n",
    "from tensorflow.keras.layers import Conv2D, MaxPooling2D, GlobalAveragePooling2D,AveragePooling2D\n",
    "\n",
    "from tensorflow.keras.optimizers import SGD, Adam\n",
    "\n",
    "# For data preprocessing\n",
    "from tensorflow.keras import datasets\n",
    "from tensorflow.keras.utils import to_categorical"
   ]
  },
  {
   "cell_type": "code",
   "execution_count": 45,
   "metadata": {},
   "outputs": [],
   "source": [
    "# Load Fashine MNIST\n",
    "(x_train, y_train0), (x_test, y_test0) = datasets.fashion_mnist.load_data()\n",
    "\n",
    "# Reshape size\n",
    "x_train = x_train.reshape(60000,28,28,1)\n",
    "x_test = x_test.reshape(10000,28,28,1)\n",
    "                          \n",
    "# Normalize the range of featurs\n",
    "x_train = x_train / 255\n",
    "x_test = x_test / 255\n",
    "\n",
    "# One-hot encoding\n",
    "y_train = to_categorical(y_train0, 10)\n",
    "y_test = to_categorical(y_test0, 10)"
   ]
  },
  {
   "cell_type": "code",
   "execution_count": 53,
   "metadata": {},
   "outputs": [
    {
     "data": {
      "text/plain": [
       "(60000, 28, 28, 1)"
      ]
     },
     "execution_count": 53,
     "metadata": {},
     "output_type": "execute_result"
    }
   ],
   "source": [
    "x_train.shape"
   ]
  },
  {
   "cell_type": "code",
   "execution_count": 10,
   "metadata": {},
   "outputs": [],
   "source": [
    "from tensorflow.keras.models import Model\n",
    "from tensorflow.keras.layers import concatenate,Input"
   ]
  },
  {
   "cell_type": "code",
   "execution_count": 15,
   "metadata": {},
   "outputs": [],
   "source": [
    "f_1 = Conv2D(16,(3,3),padding='same',activation= 'relu')\n",
    "f_2_1 = MaxPooling2D(pool_size=(2,2),padding='same')\n",
    "f_3 = Conv2D(32,(3,3),padding='same',activation= 'relu')\n",
    "f_4_1 = MaxPooling2D(pool_size=(2, 2),padding='same', data_format=None)\n",
    "f_5 = Conv2D(128,(3,3),padding='same',activation= 'relu')\n",
    "f_6_1 = MaxPooling2D(pool_size=(2, 2),padding='same', data_format=None)\n",
    "\n",
    "f_2_2 = AveragePooling2D(pool_size=(2,2),padding='same')\n",
    "f_4_2 = AveragePooling2D(pool_size=(2, 2 ),padding='same', data_format=None)\n",
    "f_6_2 = AveragePooling2D(pool_size=(2, 2 ),padding='same', data_format=None)\n",
    "\n",
    "f_7 = Flatten()\n",
    "f_8 = Dense(10, activation='softmax')"
   ]
  },
  {
   "cell_type": "code",
   "execution_count": 47,
   "metadata": {},
   "outputs": [],
   "source": [
    "x = Input(shape=(28,28,1))"
   ]
  },
  {
   "cell_type": "code",
   "execution_count": 48,
   "metadata": {},
   "outputs": [],
   "source": [
    "h_1 = f_1(x)\n",
    "h_2_1 = f_2_1(h_1)\n",
    "h_3_1 = f_3(h_2_1)\n",
    "h_4_1 = f_4_1(h_3_1)\n",
    "h_5_1 = f_5(h_4_1)\n",
    "h_6_1 = f_6_1(h_5_1)\n",
    "\n",
    "h_2_2 = f_2_2(h_1)\n",
    "h_3_2 = f_3(h_2_2)\n",
    "h_4_2 = f_4_2(h_3_2)\n",
    "h_5_2 = f_5(h_4_2)\n",
    "h_6_2 = f_6_1(h_5_2)\n",
    "\n",
    "h_7 = concatenate([h_6_1, h_6_2])\n",
    "h_8 = f_7(h_7)\n",
    "y= f_8(h_8)"
   ]
  },
  {
   "cell_type": "code",
   "execution_count": 49,
   "metadata": {},
   "outputs": [
    {
     "name": "stdout",
     "output_type": "stream",
     "text": [
      "Model: \"model_5\"\n",
      "__________________________________________________________________________________________________\n",
      "Layer (type)                    Output Shape         Param #     Connected to                     \n",
      "==================================================================================================\n",
      "input_8 (InputLayer)            [(None, 28, 28, 1)]  0                                            \n",
      "__________________________________________________________________________________________________\n",
      "conv2d_7 (Conv2D)               (None, 28, 28, 16)   160         input_8[0][0]                    \n",
      "__________________________________________________________________________________________________\n",
      "max_pooling2d_6 (MaxPooling2D)  (None, 14, 14, 16)   0           conv2d_7[3][0]                   \n",
      "__________________________________________________________________________________________________\n",
      "average_pooling2d_6 (AveragePoo (None, 14, 14, 16)   0           conv2d_7[3][0]                   \n",
      "__________________________________________________________________________________________________\n",
      "conv2d_8 (Conv2D)               (None, 14, 14, 32)   4640        max_pooling2d_6[3][0]            \n",
      "                                                                 average_pooling2d_6[3][0]        \n",
      "__________________________________________________________________________________________________\n",
      "max_pooling2d_7 (MaxPooling2D)  (None, 7, 7, 32)     0           conv2d_8[6][0]                   \n",
      "__________________________________________________________________________________________________\n",
      "average_pooling2d_7 (AveragePoo (None, 7, 7, 32)     0           conv2d_8[7][0]                   \n",
      "__________________________________________________________________________________________________\n",
      "conv2d_9 (Conv2D)               (None, 7, 7, 128)    36992       max_pooling2d_7[3][0]            \n",
      "                                                                 average_pooling2d_7[3][0]        \n",
      "__________________________________________________________________________________________________\n",
      "max_pooling2d_8 (MaxPooling2D)  (None, 4, 4, 128)    0           conv2d_9[6][0]                   \n",
      "                                                                 conv2d_9[7][0]                   \n",
      "__________________________________________________________________________________________________\n",
      "concatenate_4 (Concatenate)     (None, 4, 4, 256)    0           max_pooling2d_8[6][0]            \n",
      "                                                                 max_pooling2d_8[7][0]            \n",
      "__________________________________________________________________________________________________\n",
      "flatten_2 (Flatten)             (None, 4096)         0           concatenate_4[0][0]              \n",
      "__________________________________________________________________________________________________\n",
      "dense_2 (Dense)                 (None, 10)           40970       flatten_2[3][0]                  \n",
      "==================================================================================================\n",
      "Total params: 82,762\n",
      "Trainable params: 82,762\n",
      "Non-trainable params: 0\n",
      "__________________________________________________________________________________________________\n"
     ]
    }
   ],
   "source": [
    "model = Model(x, y)\n",
    "model.summary()"
   ]
  },
  {
   "cell_type": "code",
   "execution_count": 50,
   "metadata": {},
   "outputs": [],
   "source": [
    "model.compile(loss='mse', \n",
    "              optimizer=Adam(), \n",
    "              metrics=['accuracy'])"
   ]
  },
  {
   "cell_type": "code",
   "execution_count": 54,
   "metadata": {},
   "outputs": [
    {
     "name": "stdout",
     "output_type": "stream",
     "text": [
      "Train on 60000 samples, validate on 10000 samples\n",
      "Epoch 1/10\n",
      "60000/60000 [==============================] - 38s 641us/sample - loss: 0.0336 - accuracy: 0.7559 - val_loss: 0.0230 - val_accuracy: 0.8424\n",
      "Epoch 2/10\n",
      "60000/60000 [==============================] - 39s 649us/sample - loss: 0.0204 - accuracy: 0.8606 - val_loss: 0.0189 - val_accuracy: 0.8697\n",
      "Epoch 3/10\n",
      "60000/60000 [==============================] - 40s 667us/sample - loss: 0.0173 - accuracy: 0.8816 - val_loss: 0.0180 - val_accuracy: 0.8768\n",
      "Epoch 4/10\n",
      "60000/60000 [==============================] - 40s 662us/sample - loss: 0.0161 - accuracy: 0.8903 - val_loss: 0.0191 - val_accuracy: 0.8652\n",
      "Epoch 5/10\n",
      "60000/60000 [==============================] - 39s 655us/sample - loss: 0.0153 - accuracy: 0.8963 - val_loss: 0.0160 - val_accuracy: 0.8903\n",
      "Epoch 6/10\n",
      "60000/60000 [==============================] - 40s 658us/sample - loss: 0.0140 - accuracy: 0.9057 - val_loss: 0.0153 - val_accuracy: 0.8971\n",
      "Epoch 7/10\n",
      "60000/60000 [==============================] - 39s 648us/sample - loss: 0.0134 - accuracy: 0.9102 - val_loss: 0.0151 - val_accuracy: 0.8983\n",
      "Epoch 8/10\n",
      "60000/60000 [==============================] - 38s 638us/sample - loss: 0.0128 - accuracy: 0.9133 - val_loss: 0.0153 - val_accuracy: 0.8964\n",
      "Epoch 9/10\n",
      "60000/60000 [==============================] - 38s 636us/sample - loss: 0.0125 - accuracy: 0.9164 - val_loss: 0.0141 - val_accuracy: 0.9050\n",
      "Epoch 10/10\n",
      "60000/60000 [==============================] - 38s 633us/sample - loss: 0.0119 - accuracy: 0.9216 - val_loss: 0.0152 - val_accuracy: 0.8962\n"
     ]
    },
    {
     "data": {
      "text/plain": [
       "<tensorflow.python.keras.callbacks.History at 0x1dfaa1b9e10>"
      ]
     },
     "execution_count": 54,
     "metadata": {},
     "output_type": "execute_result"
    }
   ],
   "source": [
    "model.fit(x_train, y_train, \n",
    "          batch_size=256, \n",
    "          epochs=10,\n",
    "          validation_data=(x_test,y_test))"
   ]
  },
  {
   "cell_type": "code",
   "execution_count": null,
   "metadata": {},
   "outputs": [],
   "source": []
  }
 ],
 "metadata": {
  "kernelspec": {
   "display_name": "Python 3",
   "language": "python",
   "name": "python3"
  },
  "language_info": {
   "codemirror_mode": {
    "name": "ipython",
    "version": 3
   },
   "file_extension": ".py",
   "mimetype": "text/x-python",
   "name": "python",
   "nbconvert_exporter": "python",
   "pygments_lexer": "ipython3",
   "version": "3.6.8"
  }
 },
 "nbformat": 4,
 "nbformat_minor": 2
}
