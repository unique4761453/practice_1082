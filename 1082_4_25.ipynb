{
 "cells": [
  {
   "cell_type": "markdown",
   "metadata": {},
   "source": [
    "#### 設定資料長度為300，模型基本為Embedding(10000,128)，LSTM，Dense(1,activation=\"tanh\")，設定三個模型，不同之處只有LSTM之中的參數dropout和recurrent_dropout，我查詢網路上說dropout是針對 input 抑制過度擬合，而recurrent_dropout是針對上一個 output state 抑制過度擬合，所以針對這兩個參數，設計了三個模型，觀察結果時會著重於測試結果正確率。\n",
    "\n",
    "### 第一個模型，dropout=0.2,recurrent_dropout=0.2\n",
    "#### 結果，訓練資料正確率0.9461，測試資料正確率0.8151\n",
    "### 第二個模型，dropout=0.4,recurrent_dropout=0.4\n",
    "#### 結果，訓練資料正確率0.9376，測試資料正確率0.8127\n",
    "### 第三個模型，dropout=0.5,recurrent_dropout=0.2\n",
    "#### 結果，訓練資料正確率0.9458，測試資料正確率0.8137\n",
    "\n",
    "#### 這次的三個模型結果似乎都相差不大，測試資料的正確率也都在0.81上下，兩個參數dropout和recurrent_dropout的不同似乎沒有造成太大的影響，除此之外還有一個共通點就是訓練模型所費的時間都很久。"
   ]
  },
  {
   "cell_type": "code",
   "execution_count": 1,
   "metadata": {},
   "outputs": [],
   "source": [
    "%matplotlib inline\n",
    "\n",
    "import numpy as np\n",
    "import matplotlib.pyplot as plt\n",
    "import pandas as pd"
   ]
  },
  {
   "cell_type": "code",
   "execution_count": 29,
   "metadata": {},
   "outputs": [],
   "source": [
    "from tensorflow.keras.preprocessing import sequence\n",
    "from tensorflow.keras.models import Sequential\n",
    "from tensorflow.keras.layers import Dense,Embedding,LSTM,Dropout\n",
    "from tensorflow.keras.datasets import imdb\n"
   ]
  },
  {
   "cell_type": "code",
   "execution_count": 3,
   "metadata": {},
   "outputs": [],
   "source": [
    "(x_train,y_train),(x_test,y_test) = imdb.load_data(num_words=10000)"
   ]
  },
  {
   "cell_type": "code",
   "execution_count": 17,
   "metadata": {},
   "outputs": [],
   "source": [
    "x_train = sequence.pad_sequences(x_train,maxlen=300)\n",
    "x_test = sequence.pad_sequences(x_test,maxlen=300)"
   ]
  },
  {
   "cell_type": "markdown",
   "metadata": {},
   "source": [
    "### model1"
   ]
  },
  {
   "cell_type": "code",
   "execution_count": 32,
   "metadata": {},
   "outputs": [],
   "source": [
    "model = Sequential()"
   ]
  },
  {
   "cell_type": "code",
   "execution_count": 33,
   "metadata": {},
   "outputs": [
    {
     "name": "stdout",
     "output_type": "stream",
     "text": [
      "Model: \"sequential_9\"\n",
      "_________________________________________________________________\n",
      "Layer (type)                 Output Shape              Param #   \n",
      "=================================================================\n",
      "embedding_11 (Embedding)     (None, None, 128)         1280000   \n",
      "_________________________________________________________________\n",
      "lstm_12 (LSTM)               (None, 64)                49408     \n",
      "_________________________________________________________________\n",
      "dense_15 (Dense)             (None, 1)                 65        \n",
      "=================================================================\n",
      "Total params: 1,329,473\n",
      "Trainable params: 1,329,473\n",
      "Non-trainable params: 0\n",
      "_________________________________________________________________\n"
     ]
    }
   ],
   "source": [
    "model.add(Embedding(10000,128))\n",
    "model.add(LSTM(64,dropout=0.2,recurrent_dropout=0.2))\n",
    "model.add(Dense(1,activation=\"tanh\"))\n",
    "model.compile(loss= \"binary_crossentropy\",\n",
    "              optimizer=\"adam\",\n",
    "              metrics=[\"accuracy\"])\n",
    "model.summary()"
   ]
  },
  {
   "cell_type": "code",
   "execution_count": 34,
   "metadata": {},
   "outputs": [
    {
     "name": "stdout",
     "output_type": "stream",
     "text": [
      "Train on 25000 samples, validate on 25000 samples\n",
      "Epoch 1/10\n",
      "25000/25000 [==============================] - 520s 21ms/sample - loss: 0.5433 - accuracy: 0.7442 - val_loss: 0.4252 - val_accuracy: 0.8117\n",
      "Epoch 2/10\n",
      "25000/25000 [==============================] - 518s 21ms/sample - loss: 0.3547 - accuracy: 0.8588 - val_loss: 0.3951 - val_accuracy: 0.8268\n",
      "Epoch 3/10\n",
      "25000/25000 [==============================] - 519s 21ms/sample - loss: 0.3071 - accuracy: 0.8840 - val_loss: 0.4533 - val_accuracy: 0.8306\n",
      "Epoch 4/10\n",
      "25000/25000 [==============================] - 502s 20ms/sample - loss: 0.2557 - accuracy: 0.9058 - val_loss: 0.5107 - val_accuracy: 0.8259\n",
      "Epoch 5/10\n",
      "25000/25000 [==============================] - 498s 20ms/sample - loss: 0.2127 - accuracy: 0.9267 - val_loss: 0.5412 - val_accuracy: 0.8270\n",
      "Epoch 6/10\n",
      "25000/25000 [==============================] - 495s 20ms/sample - loss: 0.2041 - accuracy: 0.9349 - val_loss: 0.7333 - val_accuracy: 0.8226\n",
      "Epoch 7/10\n",
      "25000/25000 [==============================] - 478s 19ms/sample - loss: 0.1661 - accuracy: 0.9460 - val_loss: 0.6578 - val_accuracy: 0.7877\n",
      "Epoch 8/10\n",
      "25000/25000 [==============================] - 399s 16ms/sample - loss: 0.1963 - accuracy: 0.9396 - val_loss: 0.7301 - val_accuracy: 0.8147\n",
      "Epoch 9/10\n",
      "25000/25000 [==============================] - 276s 11ms/sample - loss: 0.1971 - accuracy: 0.9371 - val_loss: 0.7455 - val_accuracy: 0.8100\n",
      "Epoch 10/10\n",
      "25000/25000 [==============================] - 275s 11ms/sample - loss: 0.1769 - accuracy: 0.9461 - val_loss: 0.9234 - val_accuracy: 0.8151\n"
     ]
    },
    {
     "data": {
      "text/plain": [
       "<tensorflow.python.keras.callbacks.History at 0x24c070bd4e0>"
      ]
     },
     "execution_count": 34,
     "metadata": {},
     "output_type": "execute_result"
    }
   ],
   "source": [
    "model.fit(x_train,y_train,batch_size=32,epochs=10,\n",
    "         validation_data=(x_test,y_test))"
   ]
  },
  {
   "cell_type": "markdown",
   "metadata": {},
   "source": [
    "### model2"
   ]
  },
  {
   "cell_type": "code",
   "execution_count": 35,
   "metadata": {},
   "outputs": [],
   "source": [
    "model = Sequential()"
   ]
  },
  {
   "cell_type": "code",
   "execution_count": 36,
   "metadata": {},
   "outputs": [
    {
     "name": "stdout",
     "output_type": "stream",
     "text": [
      "Model: \"sequential_10\"\n",
      "_________________________________________________________________\n",
      "Layer (type)                 Output Shape              Param #   \n",
      "=================================================================\n",
      "embedding_12 (Embedding)     (None, None, 128)         1280000   \n",
      "_________________________________________________________________\n",
      "lstm_13 (LSTM)               (None, 64)                49408     \n",
      "_________________________________________________________________\n",
      "dense_16 (Dense)             (None, 1)                 65        \n",
      "=================================================================\n",
      "Total params: 1,329,473\n",
      "Trainable params: 1,329,473\n",
      "Non-trainable params: 0\n",
      "_________________________________________________________________\n"
     ]
    }
   ],
   "source": [
    "model.add(Embedding(10000,128))\n",
    "model.add(LSTM(64,dropout=0.4,recurrent_dropout=0.4))\n",
    "model.add(Dense(1,activation=\"tanh\"))\n",
    "model.compile(loss= \"binary_crossentropy\",\n",
    "              optimizer=\"adam\",\n",
    "              metrics=[\"accuracy\"])\n",
    "model.summary()"
   ]
  },
  {
   "cell_type": "code",
   "execution_count": 37,
   "metadata": {},
   "outputs": [
    {
     "name": "stdout",
     "output_type": "stream",
     "text": [
      "Train on 25000 samples, validate on 25000 samples\n",
      "Epoch 1/10\n",
      "25000/25000 [==============================] - 279s 11ms/sample - loss: 0.6377 - accuracy: 0.7085 - val_loss: 0.4664 - val_accuracy: 0.8303\n",
      "Epoch 2/10\n",
      "25000/25000 [==============================] - 280s 11ms/sample - loss: 0.4104 - accuracy: 0.8351 - val_loss: 0.4227 - val_accuracy: 0.8202\n",
      "Epoch 3/10\n",
      "25000/25000 [==============================] - 272s 11ms/sample - loss: 0.3471 - accuracy: 0.8713 - val_loss: 0.4704 - val_accuracy: 0.8243\n",
      "Epoch 4/10\n",
      "25000/25000 [==============================] - 264s 11ms/sample - loss: 0.3050 - accuracy: 0.8923 - val_loss: 0.5436 - val_accuracy: 0.8264\n",
      "Epoch 5/10\n",
      "25000/25000 [==============================] - 257s 10ms/sample - loss: 0.2826 - accuracy: 0.9040 - val_loss: 0.6560 - val_accuracy: 0.8310\n",
      "Epoch 6/10\n",
      "25000/25000 [==============================] - 258s 10ms/sample - loss: 0.2597 - accuracy: 0.9168 - val_loss: 0.6879 - val_accuracy: 0.8212\n",
      "Epoch 7/10\n",
      "25000/25000 [==============================] - 267s 11ms/sample - loss: 0.2415 - accuracy: 0.9244 - val_loss: 0.6394 - val_accuracy: 0.8054\n",
      "Epoch 8/10\n",
      "25000/25000 [==============================] - 289s 12ms/sample - loss: 0.2260 - accuracy: 0.9275 - val_loss: 0.7196 - val_accuracy: 0.8124\n",
      "Epoch 9/10\n",
      "25000/25000 [==============================] - 258s 10ms/sample - loss: 0.2547 - accuracy: 0.9157 - val_loss: 0.7346 - val_accuracy: 0.8071\n",
      "Epoch 10/10\n",
      "25000/25000 [==============================] - 256s 10ms/sample - loss: 0.2002 - accuracy: 0.9376 - val_loss: 0.8185 - val_accuracy: 0.8127\n"
     ]
    },
    {
     "data": {
      "text/plain": [
       "<tensorflow.python.keras.callbacks.History at 0x24c08cc2c88>"
      ]
     },
     "execution_count": 37,
     "metadata": {},
     "output_type": "execute_result"
    }
   ],
   "source": [
    "model.fit(x_train,y_train,batch_size=32,epochs=10,\n",
    "         validation_data=(x_test,y_test))"
   ]
  },
  {
   "cell_type": "markdown",
   "metadata": {},
   "source": [
    "### model3"
   ]
  },
  {
   "cell_type": "code",
   "execution_count": 40,
   "metadata": {},
   "outputs": [],
   "source": [
    "model = Sequential()"
   ]
  },
  {
   "cell_type": "code",
   "execution_count": 41,
   "metadata": {},
   "outputs": [
    {
     "name": "stdout",
     "output_type": "stream",
     "text": [
      "Model: \"sequential_12\"\n",
      "_________________________________________________________________\n",
      "Layer (type)                 Output Shape              Param #   \n",
      "=================================================================\n",
      "embedding_14 (Embedding)     (None, None, 128)         1280000   \n",
      "_________________________________________________________________\n",
      "lstm_15 (LSTM)               (None, 64)                49408     \n",
      "_________________________________________________________________\n",
      "dense_18 (Dense)             (None, 1)                 65        \n",
      "=================================================================\n",
      "Total params: 1,329,473\n",
      "Trainable params: 1,329,473\n",
      "Non-trainable params: 0\n",
      "_________________________________________________________________\n"
     ]
    }
   ],
   "source": [
    "model.add(Embedding(10000,128))\n",
    "model.add(LSTM(64,dropout=0.5,recurrent_dropout=0.2))\n",
    "model.add(Dense(1,activation=\"tanh\"))\n",
    "model.compile(loss= \"binary_crossentropy\",\n",
    "              optimizer=\"adam\",\n",
    "              metrics=[\"accuracy\"])\n",
    "model.summary()"
   ]
  },
  {
   "cell_type": "code",
   "execution_count": 42,
   "metadata": {},
   "outputs": [
    {
     "name": "stdout",
     "output_type": "stream",
     "text": [
      "Train on 25000 samples, validate on 25000 samples\n",
      "Epoch 1/10\n",
      "25000/25000 [==============================] - 294s 12ms/sample - loss: 0.5700 - accuracy: 0.7487 - val_loss: 0.4090 - val_accuracy: 0.8297\n",
      "Epoch 2/10\n",
      "25000/25000 [==============================] - 300s 12ms/sample - loss: 0.3934 - accuracy: 0.8428 - val_loss: 0.4049 - val_accuracy: 0.8302\n",
      "Epoch 3/10\n",
      "25000/25000 [==============================] - 294s 12ms/sample - loss: 0.3577 - accuracy: 0.8638 - val_loss: 0.4056 - val_accuracy: 0.8365\n",
      "Epoch 4/10\n",
      "25000/25000 [==============================] - 256s 10ms/sample - loss: 0.2839 - accuracy: 0.8961 - val_loss: 0.4327 - val_accuracy: 0.8387\n",
      "Epoch 5/10\n",
      "25000/25000 [==============================] - 272s 11ms/sample - loss: 0.2724 - accuracy: 0.9004 - val_loss: 0.4959 - val_accuracy: 0.8238\n",
      "Epoch 6/10\n",
      "25000/25000 [==============================] - 273s 11ms/sample - loss: 0.2468 - accuracy: 0.9105 - val_loss: 0.5259 - val_accuracy: 0.8279\n",
      "Epoch 7/10\n",
      "25000/25000 [==============================] - 266s 11ms/sample - loss: 0.2078 - accuracy: 0.9322 - val_loss: 0.5812 - val_accuracy: 0.8271\n",
      "Epoch 8/10\n",
      "25000/25000 [==============================] - 268s 11ms/sample - loss: 0.1910 - accuracy: 0.9364 - val_loss: 0.6182 - val_accuracy: 0.8141\n",
      "Epoch 9/10\n",
      "25000/25000 [==============================] - 259s 10ms/sample - loss: 0.1997 - accuracy: 0.9343 - val_loss: 0.7911 - val_accuracy: 0.8070\n",
      "Epoch 10/10\n",
      "25000/25000 [==============================] - 356s 14ms/sample - loss: 0.1720 - accuracy: 0.9458 - val_loss: 0.8333 - val_accuracy: 0.8137\n"
     ]
    },
    {
     "data": {
      "text/plain": [
       "<tensorflow.python.keras.callbacks.History at 0x24c09a7b7b8>"
      ]
     },
     "execution_count": 42,
     "metadata": {},
     "output_type": "execute_result"
    }
   ],
   "source": [
    "model.fit(x_train,y_train,batch_size=32,epochs=10,\n",
    "         validation_data=(x_test,y_test))"
   ]
  },
  {
   "cell_type": "code",
   "execution_count": null,
   "metadata": {},
   "outputs": [],
   "source": []
  }
 ],
 "metadata": {
  "kernelspec": {
   "display_name": "Python 3",
   "language": "python",
   "name": "python3"
  },
  "language_info": {
   "codemirror_mode": {
    "name": "ipython",
    "version": 3
   },
   "file_extension": ".py",
   "mimetype": "text/x-python",
   "name": "python",
   "nbconvert_exporter": "python",
   "pygments_lexer": "ipython3",
   "version": "3.6.8"
  }
 },
 "nbformat": 4,
 "nbformat_minor": 2
}
